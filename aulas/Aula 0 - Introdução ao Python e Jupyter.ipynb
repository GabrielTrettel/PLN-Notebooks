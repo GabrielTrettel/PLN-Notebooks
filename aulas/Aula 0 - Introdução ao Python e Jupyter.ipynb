{
 "cells": [
  {
   "cell_type": "markdown",
   "metadata": {},
   "source": [
    "# Introdução\n",
    "\n",
    "Este tutorial tem como principal objetivo ser um primeiro contato para quem nunca programou em Python, mas já tem noções de como programar. Os exemplos serão simples e não esperamos que você saia daqui sabendo *algoritmos* de forma aprofundada, a ideia é apresentar de forma simples a sintaxe da linguagem.\n",
    "\n",
    "\n",
    "***\n",
    "## Lista de conteúdos:\n",
    "- [1 - Estruturas básicas da linguagem](#pt1)\n",
    " - [1.1 - Variáveis, expressões, comandos e operadores](#pt1.1)\n",
    " - [1.2 - Funções](#pt1.2)\n",
    "\n",
    "- [2 - Controle de fluxo](#pt2)\n",
    "  - [2.1 - Estrutura de seleção](#pt2.1)\n",
    "  - [2.2 - Estruturas de repetição for](#pt2.2)\n",
    "  - [2.3 - Estruturas de repetição while](#pt2.3)\n",
    "  \n",
    "- [3 - Estruturas de dados nativas](#pt3)\n",
    "  - [3.1 - Stings](#pt3.1)\n",
    "  - [3.2 - Listas](#pt3.2)\n",
    "  - [3.3 - Conjuntos](#pt3.3)\n",
    "  - [3.4 - Dicionários](#pt3.4)\n",
    "\n",
    "- [4 - Dicas e truques](#pt4)\n",
    "  - [4.1 - Operador unpack](#pt4.1)\n",
    "  - [4.2 - List comprehension](#pt4.2)\n",
    "***\n",
    "\n",
    "## Motivação\n",
    "\n",
    "Os trabalhos relacionados com processamento de linguagem natural (PLN) envolvem, em essência, strings e matrizes. Estes tipos de estruturas de dados podem ser encontradas em qualquer linguagem de programação moderna, mas, nem todas permitem uma interface amigável com o programador; qualquer pessoa que já precisou processar strings em C já percebeu que não é uma tarefa tão fácil, ainda que o resultado seja executado de forma bem rápida. Em Python, o interpretador toma conta de vários detalhes em nome do programador para que ele não precise se preocupar com minúcias ao longo do desenvolvimento do algoritmo. Este tipo de comportamento em *run-time* acaba consumindo um certo processamento da máquina, tornando sua execução mais lenta, entretanto, o objetivo das aulas reside no entendimento da matéria e não na criação de processos super eficientes e escaláveis. Portanto, nossos exemplos não serão grandes o suficiente para que a performance da linguagem seja algo que precise ser levada em conta.\n",
    "\n",
    "\n",
    "### Um pouco sobre Python\n",
    "Python é uma linguagem de programação alto nível, interpretada, de propósito geral e multi-paradigma criada por Guido van Rossum sendo lançada em 1991. É dinamicamente tipada, os blocos são indicados por espaços em branco (“*tabs*”), ao invés de chaves e possui uma sintaxe simples de ser utilizada. Os valores são passados por referência nas funções e é majoritariamente orientado a objetos.\n",
    "\n",
    "\n",
    "### Um pouco sobre o Jupyter\n",
    "O Jupyter é um programa derivado do IPython que pode ser utilizado para programar em Python, te possibilitando escrever código junto com textos no mesmo arquivo, organizando o fluxo de ideias ao longo do documento. O nome Jupyter é uma referência das 3 principais linguagens que ele suporta, [**Ju**lia](https://julialang.org/), **pyt**hon e **R**\n",
    "\n",
    "\n",
    "## Instalação do ambiente\n",
    "Se voçẽ usa Windows, é recomendado instalar alguma distribuição linux em *dualboot* ou máquina virtual para cumprir as atividades da disciplina. Mas, existe a possibilidade de instalar o Anaconda no windows para usar o jupyter.\n",
    "\n",
    "Em Linux, o python já vem instalado pois várias coisas do SO utilizam esta linguagem, e nada precisa ser feito. Para instalar o Jupyter, basta usar seu gerenciador de pacotes para carregar o necessário. O nome do pacote costuma ser jupyter-notebook, então se você rodar num terminal algo como: “sudo apt install jupyter-notebook” para derivados do Debian, deveria funcionar. O mesmo para derivados do Arch, Fedora, dentre outros, apenas trocando pelo gerenciador de pacotes específico.\n",
    "\n",
    "Assim que você conseguir instalar o Jupyter no seu computador, pode clonar este repositório no seu ambiente local para ter todos os arquivos à mão. a execução do Jupyter é simples, basta rodar \"jupyter-notebook\" num terminal que uma aba será aberta no seu navegador padrão; então navegue onde o repositório está clonado (ou onde você quer criar os arquivos das atividades) e abra/crie os arquivos com a extensão ipynb.\n",
    "\n",
    "\n",
    "### Utilização do Jupyter\n",
    "O Jupyter te permite, dentre inúmeras outras coisas, criar células de texto que podem ser interpretadas como [Markdown](https://pt.wikipedia.org/wiki/Markdown) (como esta celula, por exemplo) um tipo de linguagem de marcação que possibilita a formatação simples de texto com alguns tokens, assim como LaTeX e HTML. Se este notebook estiver aberto no seu jupyter local, dê dois cliques nesta célula e veja como a formatação em Markdow funciona.\n",
    "\n",
    "O outro tipo de célula que pode ser utilizada, são as de código, onde programas em python são escritos e o Kernel do Jpupyter consegue executar e te entregar o resultado do programa na tela.\n",
    "\n",
    " - Para **editar** uma célula, basta dar dois cliques em qualquer lugar dentro de sua região\n",
    " - Para **executar** uma célula, basta utilizar o atalho `Ctrl + Enter` com a célula desejada em foco.\n",
    " \n",
    "O Jupyter possui um comportamento parecido com o [Vim](https://pt.wikipedia.org/wiki/Vim), com um modo \"normal\" e outro de \"edição\". Se estiver no modo normal, é possível navegar com as setas -hjkl não funcionam- e para começar a editar é só apertar `Enter` com a célula em foco (a célula em foco no modo normal fica com a linha\n",
    "<font color=\"blue\">azul</font> e no modo de edição <font color=\"green\">verde</font>). Para sair do modo de edição, basta apertar `Esc`. No modo normal, os comandos mais úteis são:\n",
    " - Adicionar célula acima(above): `A`\n",
    " - Adicionar célula abaixo(below): `B`\n",
    " - Remover uma célula: `X`\n",
    " - Transformar a célula para markdow: `M`\n",
    " - Transformar a célula para código: `Y`\n",
    " - Adicionar número das linhas para todas as células `Shift+L`\n",
    " - MOstrar o menu com todos os atalhos `H`\n",
    " \n",
    "Um detalhe particularmente curioso sobre o Jupyter é que cada vez que uma célula de código é executada, todo seu conteúdo é armazenado num buffer. Então todas as variáveis iniciadas numa célula podem ser acessadas por uma outra célula que foi executada depois.\n",
    "\n",
    "\n",
    "***\n",
    "\n",
    "<a id=\"pt1\"></a>\n",
    "\n",
    "# Parte 1: Estruturas básicas da linguagem\n",
    "\n",
    "\n",
    "<a id=\"pt1.1\"></a>\n",
    "## 1.1 Variáveis, expressões , comandos e operadores\n",
    "   \n",
    "Em qualquer linguagem [Turing completa](https://pt.wikipedia.org/wiki/Turing_completude), algum tipo de estrutura que guarde informação se faz necessária, e, em python, estas são as *variáveis*. Como a linguagem é dinamicamente tipada, não existe a necessidade de declarar variáveis com um tipo já determinado, já que elas podem mudar o conteúdo a qualquer momento."
   ]
  },
  {
   "cell_type": "code",
   "execution_count": 1,
   "metadata": {},
   "outputs": [
    {
     "name": "stdout",
     "output_type": "stream",
     "text": [
      "Batata\n",
      "1\n",
      "0.5\n",
      "['Batata-frita', 'Batata-corada']\n",
      "15000000000.0\n",
      "O tipo da variavel_qualquer é:  <class 'float'>\n"
     ]
    }
   ],
   "source": [
    "variavel_qualquer = \"Batata\"\n",
    "print(variavel_qualquer)\n",
    "\n",
    "variavel_qualquer = 1\n",
    "print(variavel_qualquer)\n",
    "\n",
    "variavel_qualquer = 0.5\n",
    "print(variavel_qualquer)\n",
    "\n",
    "variavel_qualquer = [\"Batata-frita\", \"Batata-corada\"]\n",
    "print(variavel_qualquer)\n",
    "\n",
    "variavel_qualquer = 1.5E10\n",
    "\n",
    "print(variavel_qualquer)\n",
    "print(\"O tipo da variavel_qualquer é: \", type(variavel_qualquer))"
   ]
  },
  {
   "cell_type": "markdown",
   "metadata": {},
   "source": [
    "No exemplo acima, `variavel_qualquer` recebeu diversos tipos de dados diferentes ao longo da execução e em nenhum momento o interpretador reclamou que você estava misturando tipos diferentes na mesma variável.\n",
    "\n",
    "Ainda que seja permitido este tipo de comportamento, não é bem visto misturar tipos diferentes numa mesma variável, pois o código acaba ficando semanticamente confuso. Uma pessoa (inclusive você no futuro) pode acabar se confundindo sobre o que está sendo operado naquela linha.\n",
    "\n",
    "A função utilizada na última linha, `type()`, recebe como argumento uma variável ou expressão e te retorna o tipo da variável ou do resultado da expressão.\n",
    "    \n",
    "Uma **expressão** é uma combinação de operadores, valores e variáveis que pode ser avaliado pelo interpretador. O exemplo abaixo mostra como uma expressão pode ser construída."
   ]
  },
  {
   "cell_type": "code",
   "execution_count": 2,
   "metadata": {},
   "outputs": [
    {
     "data": {
      "text/plain": [
       "3"
      ]
     },
     "execution_count": 2,
     "metadata": {},
     "output_type": "execute_result"
    }
   ],
   "source": [
    "1 + 2"
   ]
  },
  {
   "cell_type": "markdown",
   "metadata": {},
   "source": [
    "Python suporta diversos tipos de **operadores** e existe sobrecarga de operador com comportamentos diferentes dependendo do tipo de dado que está sendo utilizado. Este é um dos argumentos que sustenta o acordo de não mudar o tipo de uma variável ao longo da execução. Os principais são:"
   ]
  },
  {
   "cell_type": "code",
   "execution_count": 3,
   "metadata": {},
   "outputs": [
    {
     "name": "stdout",
     "output_type": "stream",
     "text": [
      "Soma simples: 3\n",
      "Mubtração simples: -1\n",
      "Multiplicação simples: 12\n",
      "Divisão inteira: 3\n",
      "Divisão em ponto flutuante: 3.3333333333333335\n",
      "Resto da divisão inteira: 1\n",
      "Potencia: 1024\n",
      "Raíz usando potencia: 32.0\n",
      "\n",
      "Soma de uma string com outra\n",
      "Multiplicação com string Multiplicação com string Multiplicação com string Multiplicação com string \n",
      "Multiplicação com string Multiplicação com string Multiplicação com string Multiplicação com string \n"
     ]
    }
   ],
   "source": [
    "print(\"Soma simples:\", 1+2)\n",
    "print(\"Mubtração simples:\", 1-2)\n",
    "print(\"Multiplicação simples:\", 3*4)\n",
    "print(\"Divisão inteira:\", 10//3)\n",
    "print(\"Divisão em ponto flutuante:\", 10/3) # A precisão padrão do ponto flutuamte é 17 bits significativos\n",
    "print(\"Resto da divisão inteira:\", 10%3)\n",
    "print(\"Potencia:\", 2**10)\n",
    "print(\"Raíz usando potencia:\", 1024**0.5) # Neste caso, raíz quadrada\n",
    "\n",
    "# Os mesmos operadores também podem ser usados com outros tipos de dados,\n",
    "# por isso, cuidado\n",
    "print(\"\\nSoma de uma string\" + \" com outra\")\n",
    "print(\"Multiplicação com string \" * 4)\n",
    "print(4 * \"Multiplicação com string \")"
   ]
  },
  {
   "cell_type": "markdown",
   "metadata": {},
   "source": [
    "Um **comando** é uma instrução enviada ao interpretador para que ele execute algum tipo de atividade específica. Exemplos de comando podem ser a função `print()`, que utilizamos anteriormente, e atribuições. Comandos podem ou não retornar retornar informações, e cabe ao programador/a decidir o que fazer em cada um dos casos. "
   ]
  },
  {
   "cell_type": "code",
   "execution_count": 4,
   "metadata": {},
   "outputs": [
    {
     "name": "stdout",
     "output_type": "stream",
     "text": [
      "Isto é um comando!\n"
     ]
    }
   ],
   "source": [
    "# O print é um comando\n",
    "print(\"Isto é um comando!\")\n",
    "\n",
    "# Atribuição também é um comando\n",
    "variavel = \"Este é outro comando que não indica ao usuário que foi executado\""
   ]
  },
  {
   "cell_type": "markdown",
   "metadata": {},
   "source": [
    "Sempre que queremos imprimir algo na tela, precisamos utilizar a função `print`; que recebe uma variável, valor ou expressão como argumento. A função recebe zero ou mais elementos separados por vírgula, e imprime cada um deles com uma espaço entre cada e termina a frase com uma quebra de linha.\n",
    "\n",
    "Existem caracteres reservados que são utilizados para a formatação da saída nos prints e não são mostrados na tela, o `\\n` quebra a linha enquanto o `\\t` é a tabulação."
   ]
  },
  {
   "cell_type": "code",
   "execution_count": 5,
   "metadata": {},
   "outputs": [
    {
     "name": "stdout",
     "output_type": "stream",
     "text": [
      "Primeira string e segunda string todas na primeira linha\n",
      "\n",
      "Quarta string que está na terceira linha impressa\n",
      "Exemplo de print com uma expressão:\n",
      "O resultado de 1+2 é:  3\n"
     ]
    }
   ],
   "source": [
    "print(\"Primeira string\", \"e segunda string\", \"todas na primeira linha\")\n",
    "print()  # apenas imprime uma linha em branco\n",
    "print(\"Quarta string que está na terceira linha impressa\")\n",
    "print(\"Exemplo de print com uma expressão:\\nO resultado de 1+2 é: \", 1+2)"
   ]
  },
  {
   "cell_type": "markdown",
   "metadata": {},
   "source": [
    "<a id=\"pt1.2\"></a>\n",
    "## 1.2 Funções\n",
    "\n",
    "No contexto de programação, função é uma sequência nomeada de instruções ou comandos, que realizam uma operação desejada. Esta operação é especificada numa definição de função. Existe, as funções nativas da linguagem que já estão implementadas e podemos apenas utilizá-las. Até o momento já vimos duas, a `type` que retorna o tipo de seu argumento e a `print` que imprime na tela, entretanto existem diversas outras.\n",
    "\n",
    "Uma tarefa comum ao longo da programação é a conversão de diferentes tipos, quando um operador tem comportamentos distintos dependendo do que se é operado. Suponha que você deseja concatenar uma string $A$ com um número inteiro $B$. O operador da concatenação de strings é o `+`, que também é usado para adição aritmética, e por isso não podemos executar a concatenação logo de cara senão obtemos um erro:"
   ]
  },
  {
   "cell_type": "code",
   "execution_count": 6,
   "metadata": {},
   "outputs": [
    {
     "ename": "TypeError",
     "evalue": "can only concatenate str (not \"int\") to str",
     "output_type": "error",
     "traceback": [
      "\u001b[0;31m---------------------------------------------------------------------------\u001b[0m",
      "\u001b[0;31mTypeError\u001b[0m                                 Traceback (most recent call last)",
      "\u001b[0;32m<ipython-input-6-9293684230b9>\u001b[0m in \u001b[0;36m<module>\u001b[0;34m\u001b[0m\n\u001b[1;32m      1\u001b[0m \u001b[0mA\u001b[0m \u001b[0;34m=\u001b[0m \u001b[0;34m\"Uma string que vai anteceder um inteiro: \"\u001b[0m\u001b[0;34m\u001b[0m\u001b[0;34m\u001b[0m\u001b[0m\n\u001b[1;32m      2\u001b[0m \u001b[0mB\u001b[0m \u001b[0;34m=\u001b[0m \u001b[0;36m1\u001b[0m\u001b[0;34m\u001b[0m\u001b[0;34m\u001b[0m\u001b[0m\n\u001b[0;32m----> 3\u001b[0;31m \u001b[0mprint\u001b[0m\u001b[0;34m(\u001b[0m\u001b[0mA\u001b[0m\u001b[0;34m+\u001b[0m\u001b[0mB\u001b[0m\u001b[0;34m)\u001b[0m\u001b[0;34m\u001b[0m\u001b[0;34m\u001b[0m\u001b[0m\n\u001b[0m",
      "\u001b[0;31mTypeError\u001b[0m: can only concatenate str (not \"int\") to str"
     ]
    }
   ],
   "source": [
    "A = \"Uma string que vai anteceder um inteiro: \"\n",
    "B = 1\n",
    "print(A+B)"
   ]
  },
  {
   "cell_type": "markdown",
   "metadata": {},
   "source": [
    "É necessário converter a variável `B` para string antes de concatenar as duas no print"
   ]
  },
  {
   "cell_type": "code",
   "execution_count": 7,
   "metadata": {},
   "outputs": [
    {
     "name": "stdout",
     "output_type": "stream",
     "text": [
      "Uma string que vai anteceder um inteiro: 1\n"
     ]
    }
   ],
   "source": [
    "B_str = str(B)\n",
    "print(A+B_str)"
   ]
  },
  {
   "cell_type": "markdown",
   "metadata": {},
   "source": [
    "Nestes casos em que o propósito é montar strings a partir de valores de variáveis, pode ser chato ter que ficar convertendo tudo para string no momento de concatenar, e, por isso, na versão 3.6 do python foi introduzido uma funcionalidade chamada de *f-strings*, uma forma de criar strings \"formatadas\" incluindo código dentro da definição das aspas. A sintaxe é simples e basta, antes da primeira aspa, adicionar um `f` e, dentro da string, tudo que estiver entre chaves será interpretado como uma expressão."
   ]
  },
  {
   "cell_type": "code",
   "execution_count": 8,
   "metadata": {},
   "outputs": [
    {
     "name": "stdout",
     "output_type": "stream",
     "text": [
      "Posso colocar um texto aqui e antes do que queríamos -> Uma string que vai anteceder um inteiro: 1\n",
      "A soma de 1 e 3 é 4\n",
      "Minhas frutas favoritas são banana, abacate, maçã, kiwi\n"
     ]
    }
   ],
   "source": [
    "print(f\"Posso colocar um texto aqui e antes do que queríamos -> {A}{B}\")\n",
    "print(f\"A soma de 1 e 3 é {1+3}\")\n",
    "\n",
    "frutas = [\"banana\", \"abacate\", \"maçã\", \"kiwi\"]\n",
    "print(f\"Minhas frutas favoritas são {', '.join(frutas)}\")  # Vamos falar melhor sobre o join em strings"
   ]
  },
  {
   "cell_type": "markdown",
   "metadata": {},
   "source": [
    "Ainda sobre funções de conversão de tipos, temos a `float` e `int`"
   ]
  },
  {
   "cell_type": "code",
   "execution_count": 9,
   "metadata": {},
   "outputs": [
    {
     "name": "stdout",
     "output_type": "stream",
     "text": [
      "string para int:    123\n",
      "string para float:  3.14\n",
      "float para int:     5\n",
      "int para float:     6.0\n"
     ]
    }
   ],
   "source": [
    "print(\"string para int:   \", int(\"123\"))\n",
    "print(\"string para float: \", float(\"3.14\"))\n",
    "print(\"float para int:    \", int(5.1))\n",
    "print(\"int para float:    \", float(6))"
   ]
  },
  {
   "cell_type": "markdown",
   "metadata": {},
   "source": [
    "Se a conversão for entre elementos inválidos, o interpretador retornará um erro e não fará a conversão"
   ]
  },
  {
   "cell_type": "code",
   "execution_count": 10,
   "metadata": {},
   "outputs": [
    {
     "ename": "ValueError",
     "evalue": "invalid literal for int() with base 10: 'qualquer coisa que não da pra transformar em int'",
     "output_type": "error",
     "traceback": [
      "\u001b[0;31m---------------------------------------------------------------------------\u001b[0m",
      "\u001b[0;31mValueError\u001b[0m                                Traceback (most recent call last)",
      "\u001b[0;32m<ipython-input-10-ff368cdb6951>\u001b[0m in \u001b[0;36m<module>\u001b[0;34m\u001b[0m\n\u001b[0;32m----> 1\u001b[0;31m \u001b[0mprint\u001b[0m\u001b[0;34m(\u001b[0m\u001b[0;34m\"string para int:   \"\u001b[0m\u001b[0;34m,\u001b[0m \u001b[0mint\u001b[0m\u001b[0;34m(\u001b[0m\u001b[0;34m\"qualquer coisa que não da pra transformar em int\"\u001b[0m\u001b[0;34m)\u001b[0m\u001b[0;34m)\u001b[0m\u001b[0;34m\u001b[0m\u001b[0;34m\u001b[0m\u001b[0m\n\u001b[0m",
      "\u001b[0;31mValueError\u001b[0m: invalid literal for int() with base 10: 'qualquer coisa que não da pra transformar em int'"
     ]
    }
   ],
   "source": [
    "print(\"string para int:   \", int(\"qualquer coisa que não da pra transformar em int\"))"
   ]
  },
  {
   "cell_type": "markdown",
   "metadata": {},
   "source": [
    "Além das funções que já vem por padrão, é possível criar as nossas da forma como quisermos. A sintaxe base da assinatura das funções em python podem ser as seguintes:\n",
    "```py\n",
    "def f1(arg1, arg2):\n",
    "\n",
    "def f2(arg1 = \"\", arg2 = 0):\n",
    "\n",
    "def f3(arg1, arg2 = 0):\n",
    "```\n",
    " - Quando queremos uma função chamada `f1` que recebe dois argumentos, `arg1` e `arg2`, que podem ser qualquer de qualquer tipo, já que python é dinamicamente tipado.\n",
    " - A função `f2` também recebe dois argumentos, mas, desta vez, cada um deles possui um valor *default* associado a elas. Portanto, se na chamada da função não for passado seus argumentos, estes serão uma string vazia e zero.\n",
    " - A função `f3` Mistura elementos da função  `f1` e `f2`, tendo um de seus argumentos com um valor *default* e o outro não. Esta forma é válida, mas neste caso a ordem é importante.\n",
    "\n",
    "```py\n",
    "def f4(arg1 = 0, arg2):\n",
    "```\n",
    "A função `f4` retorna um erro, já que um argumento sem valor *default* não pode vir depois de um que possui.\n"
   ]
  },
  {
   "cell_type": "code",
   "execution_count": 11,
   "metadata": {},
   "outputs": [
    {
     "ename": "SyntaxError",
     "evalue": "non-default argument follows default argument (<ipython-input-11-cfa39b0a4c95>, line 1)",
     "output_type": "error",
     "traceback": [
      "\u001b[0;36m  File \u001b[0;32m\"<ipython-input-11-cfa39b0a4c95>\"\u001b[0;36m, line \u001b[0;32m1\u001b[0m\n\u001b[0;31m    def f4(arg1 = 0, arg2):\u001b[0m\n\u001b[0m          ^\u001b[0m\n\u001b[0;31mSyntaxError\u001b[0m\u001b[0;31m:\u001b[0m non-default argument follows default argument\n"
     ]
    }
   ],
   "source": [
    "def f4(arg1 = 0, arg2):\n",
    "    return arg1 * arg2\n",
    "\n",
    "f4(2)"
   ]
  },
  {
   "cell_type": "markdown",
   "metadata": {},
   "source": [
    "Mas, um detalhe não pode passar despercebido aqui: definir um valor *deault* no argumento da função não quer dizer que ele só poderá ser daquele tipo. O ponto é que este valor só será utilizado se na chamada ele for omitido."
   ]
  },
  {
   "cell_type": "code",
   "execution_count": 12,
   "metadata": {},
   "outputs": [
    {
     "name": "stdout",
     "output_type": "stream",
     "text": [
      "Tipo de retorno de f1 sem passar argumento:         <class 'str'>\n",
      "Tipo de retorno de f1 passando int como argumento:  <class 'int'>\n"
     ]
    }
   ],
   "source": [
    "def f1(arg1 = \"\"):\n",
    "    return arg1\n",
    "\n",
    "print(\"Tipo de retorno de f1 sem passar argumento:        \", type( f1()   ))\n",
    "print(\"Tipo de retorno de f1 passando int como argumento: \", type( f1(10) ))"
   ]
  },
  {
   "cell_type": "markdown",
   "metadata": {},
   "source": [
    "O valor de um argumento default pode ser tanto um literal, quanto um objeto, como uma função. Todos estes tipos de assinatura são válidos e podem variar dependendo do que você deseja fazer."
   ]
  },
  {
   "cell_type": "code",
   "execution_count": 13,
   "metadata": {},
   "outputs": [
    {
     "name": "stdout",
     "output_type": "stream",
     "text": [
      "Passando os argumentos: <class 'int'>\n",
      "Utilizando os valores default: <class 'int'>\n"
     ]
    }
   ],
   "source": [
    "def f1(valor=\"10\", funcao_para_casting=int):\n",
    "    return funcao_para_casting(valor)\n",
    "\n",
    "print(\"Passando os argumentos:\", type(f1(\"10\", int)))\n",
    "\n",
    "print(\"Utilizando os valores default:\", type(f1()))"
   ]
  },
  {
   "cell_type": "markdown",
   "metadata": {},
   "source": [
    "<a id=\"pt2\"></a>\n",
    "# Parte 2: Controle de fluxo\n",
    "\n",
    "<a id=\"pt2.1\"></a>\n",
    "## 2.1 Estrutura de seleção\n",
    "\n",
    "Estruturas de seleção, ou expressão condicional ou ainda construção condicional, é a forma como podemos decidir no *runtime* qual parte de código será executada dependendo do resultado de uma expressão booleana.\n",
    "\n",
    "Em python, não é necessário incluir os parêntesis na sintaxe do `if`, mas se você se sente mais confortável o usando, fique a vontade."
   ]
  },
  {
   "cell_type": "code",
   "execution_count": 14,
   "metadata": {},
   "outputs": [
    {
     "name": "stdout",
     "output_type": "stream",
     "text": [
      "Abacate é uma fruta!\n",
      "True é sempre verdadeiro, False não.\n",
      "O resto da divisão inteira de 826423 por 23 não é zero\n"
     ]
    }
   ],
   "source": [
    "frutas = [\"banana\", \"abacate\", \"maçã\", \"kiwi\"]\n",
    "\n",
    "if \"abacate\" in frutas:\n",
    "    print(\"Abacate é uma fruta!\")\n",
    "else:\n",
    "    print(\"Abacate não é uma fruta\")\n",
    "    \n",
    "\n",
    "    \n",
    "if True:\n",
    "    print(\"True é sempre verdadeiro, False não.\")\n",
    "    \n",
    "    \n",
    "    \n",
    "if 826423 % 23 == 0:\n",
    "    print(\"O resto da divisão inteira de 826423 por 23 é zero\")\n",
    "else:\n",
    "    print(\"O resto da divisão inteira de 826423 por 23 não é zero\")"
   ]
  },
  {
   "cell_type": "markdown",
   "metadata": {},
   "source": [
    "Se você está acostumado a programar em C ou Java, deve ter visto que existe um tipo de dado chamado `Null` que serve para representar que uma determinada variável \"não tem um valor\" associado a ela. Em python é o `None`.\n",
    "\n",
    "Como o `None` tem a semântica de \"não ser nada\", podemos compará-lo utilizando o sinal de igualdade ou desigualdade, mas a forma idiomática (como quem utiliza a linguagem prefere usar) é comparar usando o `is`."
   ]
  },
  {
   "cell_type": "code",
   "execution_count": 15,
   "metadata": {},
   "outputs": [
    {
     "name": "stdout",
     "output_type": "stream",
     "text": [
      "a é None com igual\n",
      "a é None com is\n",
      "b não é None com is\n"
     ]
    }
   ],
   "source": [
    "a = None\n",
    "if a == None:\n",
    "    print(\"a é None com igual\")\n",
    "    \n",
    "if a is None:\n",
    "    print(\"a é None com is\")\n",
    "\n",
    "b = \"Qualauqer coisa não None\"\n",
    "if b is not None:\n",
    "    print(\"b não é None com is\")\n",
    "    "
   ]
  },
  {
   "cell_type": "markdown",
   "metadata": {},
   "source": [
    "A diferença entre o `==` e `is` é que o sinal de igualdade avalia se o **valor** sendo comparado é igual enquanto o `is` verifica se a **referência** de ambas as variáveis é igual."
   ]
  },
  {
   "cell_type": "code",
   "execution_count": 16,
   "metadata": {},
   "outputs": [
    {
     "name": "stdout",
     "output_type": "stream",
     "text": [
      "A == B\n",
      "139915809175176 139915808378184\n"
     ]
    }
   ],
   "source": [
    "A = [1, 2, 3]\n",
    "B = [1, 2, 3]\n",
    "\n",
    "if A == B: print(\"A == B\")\n",
    "if A is B: print(\"A is B\")\n",
    "\n",
    "print(id(A), id(B))"
   ]
  },
  {
   "cell_type": "markdown",
   "metadata": {},
   "source": [
    "O segundo `if` não imprime nada na tela já que ambas as variáveis são diferentes (ainda que possuem o mesmo valor) pois elas ocupam posições de memória distintas. Podemos conferir isso olhando que o `id` de cada uma é distinto.\n",
    "\n",
    "O que você esperaria como resposta se o seguinte código for executado?\n",
    "```py\n",
    "A = 10\n",
    "B = 10\n",
    "\n",
    "if A == B: print(\"A == B\")\n",
    "if A is B: print(\"A is B\")\n",
    "```\n",
    "É esperado que o comportamento seja igual do exemplo anterior, mas aqui ocorre uma peculiaridade da linguagem"
   ]
  },
  {
   "cell_type": "code",
   "execution_count": 17,
   "metadata": {},
   "outputs": [
    {
     "name": "stdout",
     "output_type": "stream",
     "text": [
      "A == B\n",
      "A is B\n",
      "139915886990848 139915886990848\n"
     ]
    }
   ],
   "source": [
    "A = 10\n",
    "B = 10\n",
    "\n",
    "if A == B: print(\"A == B\")\n",
    "if A is B: print(\"A is B\")\n",
    "\n",
    "print(id(A), id(B))"
   ]
  },
  {
   "cell_type": "markdown",
   "metadata": {},
   "source": [
    "Tipos primitivos (inteiros, floats, strings e booleanos) são todos armazenados na mesma posição de memória e cada variável com este conteúdo possui a mesma referência (para economizar espaço). Qualquer outro tipo de tipo não primitivo possui o comportamento usual.\n",
    "\n",
    "Comparação de grandeza funciona de forma similar a C ou Java:"
   ]
  },
  {
   "cell_type": "code",
   "execution_count": 18,
   "metadata": {},
   "outputs": [
    {
     "name": "stdout",
     "output_type": "stream",
     "text": [
      "20 é maior que 3\n",
      "3 é menor ou igual a 20\n"
     ]
    }
   ],
   "source": [
    "if 20 > 3: print(\"20 é maior que 3\")\n",
    "\n",
    "if 3 <= 20: print(\"3 é menor ou igual a 20\")"
   ]
  },
  {
   "cell_type": "markdown",
   "metadata": {},
   "source": [
    "Operadores lógicos $e$ e $ou$ são implementados com a *keyword* `and` e `or`. Para aninhar um outro `if` dentro do `else`, utilizamos a notação `elif`"
   ]
  },
  {
   "cell_type": "code",
   "execution_count": 19,
   "metadata": {},
   "outputs": [
    {
     "name": "stdout",
     "output_type": "stream",
     "text": [
      "10\n"
     ]
    }
   ],
   "source": [
    "a = 10\n",
    "\n",
    "if a == 10 and a is 10:\n",
    "    print(a)\n",
    "    \n",
    "elif a != 10 or a is not 10:\n",
    "    print(\"A primeira expressão é falsa e a segunda verdadeira\")\n",
    "    \n",
    "else:\n",
    "    print(\"Todas as expressões foram falsas\")\n",
    "    "
   ]
  },
  {
   "cell_type": "markdown",
   "metadata": {},
   "source": [
    "<a id=\"pt2.2\"></a>\n",
    "## 2.2 Estruturas de repetição for\n",
    "\n",
    "Uma das estruturas de repetição mais utilizadas na linguagem é o `for` e podemos utilizá-lo de diferentes maneiras.\n",
    "\n",
    "Qualquer *container* em python é iterável, ou seja, podemos colocá-lo direto no laço.\n",
    "\n",
    "A sintaxe base é:\n",
    "```py\n",
    "for variavel_do_laço in container:\n",
    "    logica de programação\n",
    "```"
   ]
  },
  {
   "cell_type": "code",
   "execution_count": 20,
   "metadata": {
    "scrolled": true
   },
   "outputs": [
    {
     "name": "stdout",
     "output_type": "stream",
     "text": [
      "banana\n",
      "abacate\n",
      "maçã\n",
      "kiwi\n"
     ]
    }
   ],
   "source": [
    "frutas = [\"banana\", \"abacate\", \"maçã\", \"kiwi\"]\n",
    "for fruta in frutas:\n",
    "    print(fruta)"
   ]
  },
  {
   "cell_type": "markdown",
   "metadata": {},
   "source": [
    "Sempre que for necessário iterar em cima de uma sequencia, temos que utilizar a função `range` que possui 3 argumentos:\n",
    "```py\n",
    "range(inicio, fim, passo)\n",
    "```\n",
    "Em que `inicio` é incluído e `fim` não."
   ]
  },
  {
   "cell_type": "code",
   "execution_count": 21,
   "metadata": {},
   "outputs": [
    {
     "name": "stdout",
     "output_type": "stream",
     "text": [
      "Numeros pares de 0 a 10 usando for\n",
      "0\n",
      "2\n",
      "4\n",
      "6\n",
      "8\n"
     ]
    }
   ],
   "source": [
    "print(\"Numeros pares de 0 a 10 usando for\")\n",
    "for i in range(0, 10, 2):\n",
    "    print(i)"
   ]
  },
  {
   "cell_type": "code",
   "execution_count": 22,
   "metadata": {},
   "outputs": [
    {
     "name": "stdout",
     "output_type": "stream",
     "text": [
      "Numeros pares de 10 a 0 ao contrário\n",
      "10\n",
      "8\n",
      "6\n",
      "4\n",
      "2\n"
     ]
    }
   ],
   "source": [
    "print(\"Numeros pares de 10 a 0 ao contrário\")\n",
    "for i in range(10, 0, -2):\n",
    "    print(i)"
   ]
  },
  {
   "cell_type": "markdown",
   "metadata": {},
   "source": [
    "Pode ser tentador programar como se estivesse utilizando a linguagem C, acessando cada elemento da lista pelo seu índice e imprimindo-o"
   ]
  },
  {
   "cell_type": "code",
   "execution_count": 23,
   "metadata": {},
   "outputs": [
    {
     "name": "stdout",
     "output_type": "stream",
     "text": [
      "banana\n",
      "abacate\n",
      "maçã\n",
      "kiwi\n"
     ]
    }
   ],
   "source": [
    "for i in range(len(frutas)): # A função len() retorna o comprimeiro da lista\n",
    "    print(frutas[i])"
   ]
  },
  {
   "cell_type": "markdown",
   "metadata": {},
   "source": [
    "O resultado final pode ser o mesmo, mas além de não ser a forma mais idiomática (ou pythonica), este tipo de estrutura consome mais processamento do interpretador do que o formato anterior.\n",
    "\n",
    "\n",
    "<a id=\"pt2.3\"></a>\n",
    "## 2.3 Estruturas de repetição while\n",
    "\n",
    "A estrutura de repetição `while` executa uma tarefa enquanto uma expressão booleana for verdadeira.\n"
   ]
  },
  {
   "cell_type": "code",
   "execution_count": 24,
   "metadata": {},
   "outputs": [
    {
     "name": "stdout",
     "output_type": "stream",
     "text": [
      "Números pares de 0 a 10 usando while\n",
      "0\n",
      "2\n",
      "4\n",
      "6\n",
      "8\n"
     ]
    }
   ],
   "source": [
    "print(\"Números pares de 0 a 10 usando while\")\n",
    "a = 0\n",
    "while a < 10:\n",
    "    print(a)\n",
    "    a += 2"
   ]
  },
  {
   "cell_type": "markdown",
   "metadata": {},
   "source": [
    "Em qualquer tipo de laço, podemos quebrar a iteração a qualquer momento com o `break` ou então continuar para a próxima iteração (sem rodar o resto do comando que está dentro do laço) usando o `continue`."
   ]
  },
  {
   "cell_type": "code",
   "execution_count": 25,
   "metadata": {},
   "outputs": [
    {
     "name": "stdout",
     "output_type": "stream",
     "text": [
      "Frutas que eu gosto usando BREAK: banana \n",
      "Frutas que eu gosto usando CONTINUE: banana maçã kiwi "
     ]
    }
   ],
   "source": [
    "frutas = [\"banana\", \"abacate\", \"maçã\", \"kiwi\"]\n",
    "print(\"Frutas que eu gosto usando BREAK:\", end=\" \")\n",
    "for fruta in frutas:\n",
    "    if fruta is \"abacate\":\n",
    "        break  # Quebra todas as proximas iterações\n",
    "    print(fruta, end=\" \")\n",
    "    \n",
    "    \n",
    "    \n",
    "print(\"\\nFrutas que eu gosto usando CONTINUE:\", end=\" \")\n",
    "for fruta in frutas:\n",
    "    if fruta is \"abacate\":\n",
    "        continue # Apenas acaba com a iteração atual, e passa para a próxima\n",
    "    print(fruta, end=\" \")"
   ]
  },
  {
   "cell_type": "markdown",
   "metadata": {},
   "source": [
    "<a id=\"pt3\"></a>\n",
    "## Parte 3: Estruturas de dados nativas\n",
    "Existem diversos tipos/estruturas de dados que podem ser carregados a partir da biblioteca padrão. Aqui veremos as principais e mais úteis no dia a dia.\n",
    "\n",
    "<a id=\"pt3.1\"></a>\n",
    "### 3.1: Strings\n",
    "Strings em python são cadeias de caracteres e podem funcionar de forma parecida como vemos em listas. Então é possível acessar seu conteúdo pelo índice do caractere. Python é 0-indexado e valores negativos são lidos do final."
   ]
  },
  {
   "cell_type": "code",
   "execution_count": 26,
   "metadata": {},
   "outputs": [
    {
     "name": "stdout",
     "output_type": "stream",
     "text": [
      "B\n",
      "A\n"
     ]
    }
   ],
   "source": [
    "fruta = \"BananA\"\n",
    "print(fruta[0])\n",
    "print(fruta[-1])"
   ]
  },
  {
   "cell_type": "markdown",
   "metadata": {},
   "source": [
    "Por conta disso, string são considerados containers, então podemos iterá-las"
   ]
  },
  {
   "cell_type": "code",
   "execution_count": 27,
   "metadata": {},
   "outputs": [
    {
     "name": "stdout",
     "output_type": "stream",
     "text": [
      "a b c d e f g h i j k l m n o p q r s t u v w x y z "
     ]
    }
   ],
   "source": [
    "alfabeto_latino = \"abcdefghijklmnopqrstuvwxyz\"\n",
    "for letra in alfabeto_latino:\n",
    "    print(letra, end=\" \")\n",
    "    \n",
    "# A função print pode receber outros argumentos modificando seu comportamento.\n",
    "# o argumento `end` insica qual caractere será usado ao final de cada execução\n",
    "# da função. O padrão é \\n (quebra de linha).\n"
   ]
  },
  {
   "cell_type": "markdown",
   "metadata": {},
   "source": [
    "Existem alguns métodos da classe string que são super úteis no dia a dia.\n",
    " - `str.split(separador)` : Transforma os elementos de uma string numa lista, separada pelo seu argumento \"separador\";\n",
    " - `str.lower()` ou `str.upper()` : Transformam todos os caracteres em caixa baixa ou alta;\n",
    " - `str.strip(r_string)` : Remove das bordas a string \"r_string\";\n",
    " - `str.rstrip` e `str.lstrip`: Igual a strip, mas só remove da borda direita ou esquerda;\n",
    " - `str.replace(remover, substituir)` : Substitui um caractere (ou cadeia) por outro;\n",
    " - `str.count(elem)` : Conta a quantidade de ocorrências de um elemento em uma string;\n",
    " - `str.find(string)` : Encontra o índice da primeira ocorrência (da esquerda para a direita) de uma string;\n",
    " - `str.join(container)` : \"junta\" cada elemento de container com o valor de str;\n",
    " - `len(str)` : Retorna o comprimento da string;\n",
    "\n",
    "\n",
    "Mas existem diversos outros métodos que podem ser encontrados na [documentação oficial](https://docs.python.org/3/library/string.html)."
   ]
  },
  {
   "cell_type": "code",
   "execution_count": 28,
   "metadata": {},
   "outputs": [
    {
     "name": "stdout",
     "output_type": "stream",
     "text": [
      "['p1', 'p2', 'p3', 'p4', 'p5', 'p6']\n",
      "LOWER CASE PARA UPPER CASE\n",
      "inicio-->Remover  os espaços em branco das bordas<--fim\n",
      "string_de_espaços_para_underline\n",
      "A quantidade de 'ta' dentro de batata:  2\n",
      "A posião da primeira ocorrência de 'a' dentro de 'farofa':  1\n",
      "p1_p2_p3_p4_p5_p6\n",
      "p1_p2_p3_p4_p5_p6\n"
     ]
    }
   ],
   "source": [
    "lista_de_palavras = \"p1 p2 p3 p4 p5 p6\".split(\" \")\n",
    "print(lista_de_palavras)\n",
    "\n",
    "print(\"lower case para upper case\".upper())\n",
    "\n",
    "print(\"inicio-->\"+ \"   Remover  os espaços em branco das bordas  \".strip(\" \") + \"<--fim\")\n",
    "\n",
    "print(\"string de espaços para underline\".replace(\" \", \"_\"))\n",
    "\n",
    "print(\"A quantidade de 'ta' dentro de batata: \", \"batata\".count('ta'))\n",
    "\n",
    "print(\"A posião da primeira ocorrência de 'a' dentro de 'farofa': \", \"farofa\".find(\"a\"))\n",
    "\n",
    "print(\"_\".join(lista_de_palavras))\n",
    "\n",
    "# Cada um dos métodos podem ser utiliados aninhados.\n",
    "# strip sem argumento remove espaço, quebra de linha e tabs das bordas\n",
    "print(\"\\t   P1 P2 P3 P4 P5 P6   \\n\".lower().strip().replace(\" \", \"_\") )"
   ]
  },
  {
   "cell_type": "markdown",
   "metadata": {},
   "source": [
    "Podemos selecionar fatias da lista para podermos trabalhar com uma amostra delimitada. A sintaxe é algo como:\n",
    "```py\n",
    "str[i:h]\n",
    "```\n",
    "Retorna uma str com os elementos do índice `i`(incluso) até `h`(excluso). Se `i` é omitido, por padrão será zero (do começo). Se `h` é omitido, o padrão será o comprimento da lista (até o final)."
   ]
  },
  {
   "cell_type": "code",
   "execution_count": 29,
   "metadata": {},
   "outputs": [
    {
     "name": "stdout",
     "output_type": "stream",
     "text": [
      "\n",
      "    String original:\n",
      "    abcdefghijklmnopqrstuvwxyz\n",
      "    \n",
      "    Elementos de 'alfabeto_latino' do indice 1 até o ultimo:\n",
      "    bcdefghijklmnopqrstuvwxyz\n",
      "    \n",
      "    Elementos de 'alfabeto_latino' do começo até o indice 5:\n",
      "    abcde\n",
      "\n",
      "    Operador do slice sem argumentos retorna a string inteira:\n",
      "    abcdefghijklmnopqrstuvwxyz\n",
      "    \n",
      "    Os elementos do começo até o penúltimo (excluso):\n",
      "    abcdefghijklmnopqrstuvwx\n",
      "    \n",
      "    Os 5 últimos elementos:\n",
      "    vwxyz\n",
      "    \n"
     ]
    }
   ],
   "source": [
    "alfabeto_latino = \"abcdefghijklmnopqrstuvwxyz\"\n",
    "\n",
    "n = alfabeto_latino[1:]   # Todos os elementos de 'alfabeto_latino' do indice 1 até o ultimo\n",
    "m = alfabeto_latino[:5]   # Todos os elementos de 'alfabeto_latino' do começo até o indice 5\n",
    "\n",
    "s = alfabeto_latino[:]    # Operador do slice sem argumentos retorna a string inteira\n",
    "k = alfabeto_latino[:-2]  # Os elementos do começo até o penúltimo (excluso)\n",
    "r = alfabeto_latino[-5:]  # Os 5 últimos elementos\n",
    "\n",
    "print(f\"\"\"\n",
    "    String original:\n",
    "    {alfabeto_latino}\n",
    "    \n",
    "    Elementos de 'alfabeto_latino' do indice 1 até o ultimo:\n",
    "    {n}\n",
    "    \n",
    "    Elementos de 'alfabeto_latino' do começo até o indice 5:\n",
    "    {m}\n",
    "\n",
    "    Operador do slice sem argumentos retorna a string inteira:\n",
    "    {s}\n",
    "    \n",
    "    Os elementos do começo até o penúltimo (excluso):\n",
    "    {k}\n",
    "    \n",
    "    Os 5 últimos elementos:\n",
    "    {r}\n",
    "    \"\"\")"
   ]
  },
  {
   "cell_type": "markdown",
   "metadata": {},
   "source": [
    "<a id=\"pt3.2\"></a>\n",
    "### 3.2: Listas e Tuplas\n",
    "\n",
    "Quando é desejado criar uma estrutura de dados que guarde diversos itens, costumamos usar listas em python. A vantagem desta estrutura de dados é que seus elementos são guardados na ordem que são inseridos, não tem tamanho fixo (enquanto for inserido elementos, ela vai crescendo automaticamente) e ela não precisa ser homogênea em seus elementos (ainda que isto seja desejável).\n",
    "\n",
    "Nos exemplos anteriores, já usamos listas, como a de frutas.\n",
    "```py\n",
    "frutas = [\"banana\", \"abacate\", \"maçã\", \"kiwi\"]\n",
    "```\n",
    "Tuplas são muito parecidas com listas, porém, imutáveis; então não podemos adicionar, remover ou alterar seus elementos. A sintaxe da tupla é delimitada por parênteses.\n",
    "```py\n",
    "uma_tupla = (\"banana\", \"abacate\", \"maçã\", \"kiwi\")\n",
    "```\n",
    "\n",
    "A sintaxe das listas é bem simples e se resume a utilizar os colchetes, separando os elementos por vírgula. Também é possível criar uma lista chamando o construtor do objeto.\n",
    "```py\n",
    "frutas = list() # Inicializando uma lista vazia\n",
    "```\n",
    "A utilização do construtor costuma ser útil quando queremos converter um outro tipo de container numa lista. Veja o próximo exemplo."
   ]
  },
  {
   "cell_type": "code",
   "execution_count": 30,
   "metadata": {},
   "outputs": [
    {
     "name": "stdout",
     "output_type": "stream",
     "text": [
      "['a', 'b', 'c', 'd', 'e', 'f', 'g', 'h', 'i', 'j', 'k', 'l', 'm', 'n', 'o', 'p', 'q', 'r', 's', 't', 'u', 'v', 'w', 'x', 'y', 'z']\n"
     ]
    }
   ],
   "source": [
    "print(list(\"abcdefghijklmnopqrstuvwxyz\"))"
   ]
  },
  {
   "cell_type": "markdown",
   "metadata": {},
   "source": [
    "Existem diversos métodos para se trabalhar com listas, os principais são:\n",
    "\n",
    " - `list.append(var)`: Adiciona na lista um elemento \"var\"\n",
    " - `list.pop(i)`: Remove (e retorna) o elemento de índice \"i\" da lista. Se o índice for omitido, remove o mais a direita\n",
    " - `list.extend(iter)`: Estende os elementos da lista pelos elementos de um objeto iterável \"iter\"\n",
    " - `list.remove(var)`: Remove o primeiro item de valor \"var\" da lista. Retorna erro se não encontrar.\n",
    " - `list.insert(i, var)`: Insere o elemento \"var\" na posição \"i\" (Se existir elemento nesta posição, todos os próximos são deslocados 1 posição para frente)\n",
    " - `list.index(var)`: Retorna o índice do primeiro elemento de valor \"var\"\n",
    " - `list.count(var)`: Retorna a quantidade de vezes que \"var\" aparece na lista\n",
    " - `list.sort(key=f, reverse=False)`: Ordena a lista. \"Key\" é um argumento que pode ser passada uma função \"f\" para indicar como a lista será ordenada. \"reverse\" indica como será ordenado.\n",
    " - `len(list)`: Retorna o comprimento da lista \"list\". As listas não possuem um método/atributo que indique seu comprimento. Precisamos usar uma função externa à classe que faça isso.\n",
    " \n",
    "Mais detalhes sobre métodos de listas na [documentação oficial](https://docs.python.org/3/library/stdtypes.html#list)"
   ]
  },
  {
   "cell_type": "code",
   "execution_count": 31,
   "metadata": {},
   "outputs": [
    {
     "name": "stdout",
     "output_type": "stream",
     "text": [
      "['abacate', 'banana', 'kiwi', 'maçã']\n"
     ]
    }
   ],
   "source": [
    "frutas = [\"banana\", \"abacate\", \"maçã\", \"kiwi\"]\n",
    "frutas.append(\"Pêra\") # Adiciona Pêra no final da lista\n",
    "frutas.pop()          # Remove o ultimo elemento da lista\n",
    "frutas.sort()         # Quando key omitido, ordena alfabeticamente\n",
    "print(frutas)"
   ]
  },
  {
   "cell_type": "code",
   "execution_count": 32,
   "metadata": {},
   "outputs": [
    {
     "name": "stdout",
     "output_type": "stream",
     "text": [
      "[1, 2, 'string', [3, 10], 'a', 3.0, 1e-23]\n"
     ]
    }
   ],
   "source": [
    "lista_maluca = [1, 2, \"string\", [3, 10], \"a\", 3.0, 1.0E-23]\n",
    "print(lista_maluca)"
   ]
  },
  {
   "cell_type": "markdown",
   "metadata": {},
   "source": [
    "Note que podemos fazer uma lista com elementos distintos, cada um de um tipo que não temos nenhum erro. Mas, este tipo de comportamento deve ser evitado pois comportamentos inesperados podem ocorrer, veja o exemplo:"
   ]
  },
  {
   "cell_type": "code",
   "execution_count": 33,
   "metadata": {},
   "outputs": [
    {
     "name": "stdout",
     "output_type": "stream",
     "text": [
      "[-1, 0, 0, 0.1, 1, 2, 3, 5, 8, 9, 10]\n",
      "['a', 'b', 'c', 'c', 'i', 'n', 'r']\n"
     ]
    },
    {
     "ename": "TypeError",
     "evalue": "'<' not supported between instances of 'str' and 'int'",
     "output_type": "error",
     "traceback": [
      "\u001b[0;31m---------------------------------------------------------------------------\u001b[0m",
      "\u001b[0;31mTypeError\u001b[0m                                 Traceback (most recent call last)",
      "\u001b[0;32m<ipython-input-33-96963dc7a505>\u001b[0m in \u001b[0;36m<module>\u001b[0;34m\u001b[0m\n\u001b[1;32m      9\u001b[0m \u001b[0;34m\u001b[0m\u001b[0m\n\u001b[1;32m     10\u001b[0m \u001b[0mnumeros_e_letras\u001b[0m \u001b[0;34m=\u001b[0m \u001b[0;34m[\u001b[0m\u001b[0;36m5\u001b[0m\u001b[0;34m,\u001b[0m \u001b[0;36m10\u001b[0m\u001b[0;34m,\u001b[0m \u001b[0;34m-\u001b[0m\u001b[0;36m1\u001b[0m\u001b[0;34m,\u001b[0m \u001b[0;36m0\u001b[0m\u001b[0;34m,\u001b[0m \u001b[0;34m'b'\u001b[0m\u001b[0;34m,\u001b[0m \u001b[0;34m'i'\u001b[0m\u001b[0;34m,\u001b[0m \u001b[0;34m'r'\u001b[0m\u001b[0;34m]\u001b[0m\u001b[0;34m\u001b[0m\u001b[0;34m\u001b[0m\u001b[0m\n\u001b[0;32m---> 11\u001b[0;31m \u001b[0mnumeros_e_letras\u001b[0m\u001b[0;34m.\u001b[0m\u001b[0msort\u001b[0m\u001b[0;34m(\u001b[0m\u001b[0;34m)\u001b[0m\u001b[0;34m\u001b[0m\u001b[0;34m\u001b[0m\u001b[0m\n\u001b[0m\u001b[1;32m     12\u001b[0m \u001b[0mprint\u001b[0m\u001b[0;34m(\u001b[0m\u001b[0mnumeros_e_letras\u001b[0m\u001b[0;34m)\u001b[0m\u001b[0;34m\u001b[0m\u001b[0;34m\u001b[0m\u001b[0m\n",
      "\u001b[0;31mTypeError\u001b[0m: '<' not supported between instances of 'str' and 'int'"
     ]
    }
   ],
   "source": [
    "numeros = [1, 2, 9, 3, 8, 5, 10, -1, 0, 0.1, 0]\n",
    "letras  = ['a', 'n', 'b', 'i', 'r', 'c', 'c']\n",
    "\n",
    "numeros.sort() # Ordenou os numeros corretamene\n",
    "letras.sort()  # Ordenou as letras corretamene\n",
    "\n",
    "print(numeros)\n",
    "print(letras) \n",
    "\n",
    "numeros_e_letras = [5, 10, -1, 0, 'b', 'i', 'r']\n",
    "numeros_e_letras.sort()\n",
    "print(numeros_e_letras)"
   ]
  },
  {
   "cell_type": "markdown",
   "metadata": {},
   "source": [
    "Isto ocorre pois o operador `<` não possui uma implementação que consegue lidar com estes tipos de dados. Mas, podemos implementar nossa própria função de comparação que faz este trabalho. Suponha que queremos ordenar esta lista, mas as strings serão avaliadas pelo seu código ASCII, que é um inteiro."
   ]
  },
  {
   "cell_type": "code",
   "execution_count": 34,
   "metadata": {},
   "outputs": [
    {
     "data": {
      "text/plain": [
       "[-1, 0, 5, 'a', 'b', 'i', 'r', 10000]"
      ]
     },
     "execution_count": 34,
     "metadata": {},
     "output_type": "execute_result"
    }
   ],
   "source": [
    "def compara(x):\n",
    "    if isinstance(x, str): # Retorna True se 'x' for um objeto da classe 'str'\n",
    "        return ord(x)\n",
    "        \n",
    "    return x \n",
    "\n",
    "numeros_e_letras = [5, 10000, -1, 0, 'b', 'i', 'r', 'a']\n",
    "numeros_e_letras.sort(key=compara)\n",
    "numeros_e_letras"
   ]
  },
  {
   "cell_type": "markdown",
   "metadata": {},
   "source": [
    "Mas, ainda que agora temos um comportamento bem definido, não é boa prática misturar tipos distintos em listas, a não ser que o objetivo seja muito bem definido e faça sentido.\n",
    "\n",
    "Listas são estruturas que podem ser acessadas por índice de forma explícita.\n",
    "```py\n",
    "numeros = [1, 2, 9, 3, 8, 5, 10, -1, 0, 0.1, 0]\n",
    "numero = numeros[2]\n",
    "```\n",
    "`numero` receberia o elemento 9, que está na posição de índice 2 da lista. É possível acessar elementos de trás pra frente com índices negativos."
   ]
  },
  {
   "cell_type": "code",
   "execution_count": 35,
   "metadata": {},
   "outputs": [
    {
     "name": "stdout",
     "output_type": "stream",
     "text": [
      "0 5\n"
     ]
    }
   ],
   "source": [
    "numeros = [1, 2, 9, 3, 8, 5, 10, -1, 0, 0.1, 0]\n",
    "numero1 = numeros[-1]\n",
    "numero2 = numeros[-6]\n",
    "\n",
    "print(numero1, numero2)"
   ]
  },
  {
   "cell_type": "markdown",
   "metadata": {},
   "source": [
    "Podemos retirar fatias de strings exatamente da mesma forma como fizemos com strings:"
   ]
  },
  {
   "cell_type": "code",
   "execution_count": 36,
   "metadata": {},
   "outputs": [
    {
     "name": "stdout",
     "output_type": "stream",
     "text": [
      "\n",
      "    Lista original:\n",
      "    [1, 2, 9, 3, 8, 5, 10, -1, 0, 0.1, 0]\n",
      "    \n",
      "    Elementos de 'numeros' do indice 1 até o ultimo:\n",
      "    [2, 9, 3, 8, 5, 10, -1, 0, 0.1, 0]\n",
      "    \n",
      "    Elementos de 'numeros' do começo até o indice 5:\n",
      "    [1, 2, 9, 3, 8]\n",
      "\n",
      "    Operador do slice sem argumentos retorna a lista inteira:\n",
      "    [1, 2, 9, 3, 8, 5, 10, -1, 0, 0.1, 0]\n",
      "    \n",
      "    Os elementos do começo até o penúltimo (excluso):\n",
      "    [1, 2, 9, 3, 8, 5, 10, -1, 0]\n",
      "    \n",
      "    Os 5 últimos elementos:\n",
      "    [10, -1, 0, 0.1, 0]\n",
      "    \n"
     ]
    }
   ],
   "source": [
    "numeros = [1, 2, 9, 3, 8, 5, 10, -1, 0, 0.1, 0]\n",
    "\n",
    "n = numeros[1:]   # Todos os elementos de 'numeros' do indice 1 até o ultimo\n",
    "m = numeros[:5]   # Todos os elementos de 'numeros' do começo até o indice 5\n",
    "\n",
    "s = numeros[:]    # Operador do slice sem argumentos retorna a lista inteira\n",
    "k = numeros[:-2]  # Os elementos do começo até o penúltimo (excluso)\n",
    "r = numeros[-5:]  # Os 5 últimos elementos\n",
    "\n",
    "print(f\"\"\"\n",
    "    Lista original:\n",
    "    {numeros}\n",
    "    \n",
    "    Elementos de 'numeros' do indice 1 até o ultimo:\n",
    "    {n}\n",
    "    \n",
    "    Elementos de 'numeros' do começo até o indice 5:\n",
    "    {m}\n",
    "\n",
    "    Operador do slice sem argumentos retorna a lista inteira:\n",
    "    {s}\n",
    "    \n",
    "    Os elementos do começo até o penúltimo (excluso):\n",
    "    {k}\n",
    "    \n",
    "    Os 5 últimos elementos:\n",
    "    {r}\n",
    "    \"\"\")"
   ]
  },
  {
   "cell_type": "markdown",
   "metadata": {},
   "source": [
    "Para verificar se algum elemento está na lista, podemos usar o operador `in` num `if`. Porém, tome cuidado pois esta operação é linear na quantidade de elementos da lista."
   ]
  },
  {
   "cell_type": "code",
   "execution_count": 37,
   "metadata": {},
   "outputs": [
    {
     "name": "stdout",
     "output_type": "stream",
     "text": [
      "Banana está em frutas\n"
     ]
    }
   ],
   "source": [
    "frutas = [\"banana\", \"abacate\", \"maçã\", \"kiwi\"]\n",
    "if \"banana\" in frutas:\n",
    "    print(\"Banana está em frutas\")"
   ]
  },
  {
   "cell_type": "markdown",
   "metadata": {},
   "source": [
    "<a id=\"pt3.3\"></a>\n",
    "### 3.3: Conjuntos\n",
    "\n",
    "Conjuntos em python são containers e seguem a mesma filosofia dos conjuntos na matemática. Uma estrutura que possui apenas elementos distintos, finitos e sem ordem estabelecida. A utilidade destas restrições é que podemos utilizar uma tabela *hash* para guardar os elementos, e portanto, a consulta é constante. A sintaxe de um conjunto (set) é delimitada pelas chaves.\n",
    "\n",
    "```py\n",
    "conjunto = {1, 2, 3, 4, 5, \"banana\"}\n",
    "conjunto2 = set() # Instancia um conjunto vazio usando o construtor.\n",
    "```\n",
    "\n",
    "Cresce dinamicamente conforme o necessário e pode conter qualquer tipo (embora não seja boa prática). Como os elementos não possuem ordem, não conseguimos acessar seus elementos por índice, apenas iterá-los."
   ]
  },
  {
   "cell_type": "code",
   "execution_count": 38,
   "metadata": {},
   "outputs": [
    {
     "name": "stdout",
     "output_type": "stream",
     "text": [
      "1\n",
      "2\n",
      "3\n",
      "4\n",
      "5\n",
      "banana\n"
     ]
    }
   ],
   "source": [
    "conjunto = {1, 2, 3, 4, 5, \"banana\"}\n",
    "for elemento in conjunto:\n",
    "    print(elemento)"
   ]
  },
  {
   "cell_type": "markdown",
   "metadata": {},
   "source": [
    "Existem diversos métodos para usar conjuntos, os principais são:\n",
    " - `set.add(var)` : Adiciona o elemento 'var' no conjunto\n",
    " - `set.remove(var)` : Remove do conjunto o elemento de valor 'var'\n",
    " - `set.pop()` : Remove um elemento arbitrário do conjunto, ou uma exception se vazio.\n",
    " - `set.union(set2)` : Retorna um conjunto novo com a união de 'set' com 'set2'\n",
    " - `set.intersection(set2)` : Retorna um novo conjunto com a intersecção de 'set' e 'set2'\n",
    " - `set.difference(set2)` : Retorna um novo conjunto com os elementos de set que não estão em 'set2'\n",
    " - `set.symmetric_difference(set2)` : Retorna um novo conjunto com os elementos que estão em um dos dois conjuntos, mas não em ambos.\n",
    " \n",
    "- `set.isdisjoint(set2)` : Retorna True se set não possui elementos em comum com 'set2' (se são disjuntos)\n",
    "- `set.issubset(set2)` : True se TODOS os elementos de 'set' estão em 'set2'\n",
    "- `set.issuperset(set2)` : True se TODOS os elementos de 'set2' estão em 'set'\n",
    "\n",
    "Mais informações sobre sets na [documentação oficial](https://docs.python.org/3/library/stdtypes.html#set)\n",
    "\n",
    "Pertinência em conjuntos segue a mesma ideia dos outros exemplos abordados acima utilizando o `in`\n"
   ]
  },
  {
   "cell_type": "code",
   "execution_count": 39,
   "metadata": {},
   "outputs": [
    {
     "name": "stdout",
     "output_type": "stream",
     "text": [
      "Banana está no conjunto\n"
     ]
    }
   ],
   "source": [
    "conjunto = {1, 2, 3, 4, 5, \"banana\"}\n",
    "if \"banana\" in conjunto:\n",
    "    print(\"Banana está no conjunto\")"
   ]
  },
  {
   "cell_type": "code",
   "execution_count": 40,
   "metadata": {},
   "outputs": [
    {
     "name": "stdout",
     "output_type": "stream",
     "text": [
      "Encontrei no conjunto\n",
      "Tempo usando sets em 0.11205673217773438 s\n",
      "\n",
      "Encontrei na lista\n",
      "Tempo usando lists 68.58110427856445 s\n"
     ]
    }
   ],
   "source": [
    "import time\n",
    "\n",
    "conjunto_enorme = set()\n",
    "lista_enorme = list()\n",
    "\n",
    "for x in range(10_000_000):\n",
    "    conjunto_enorme.add(f\"aaa{x}\")\n",
    "    lista_enorme.append(f\"aaa{x}\")\n",
    "\n",
    "t0 = time.time()\n",
    "if \"aaa5649995\" in conjunto_enorme:\n",
    "    print(\"Encontrei no conjunto\")\n",
    "    \n",
    "t1 = time.time()\n",
    "print(f\"Tempo usando sets em {(t1 - t0) * 1000} s\")\n",
    "\n",
    "\n",
    "t0 = time.time()\n",
    "if \"aaa5649995\" in lista_enorme:\n",
    "    print(\"\\nEncontrei na lista\")\n",
    "    \n",
    "t1 = time.time()\n",
    "print(f\"Tempo usando lists {(t1 - t0) * 1000} s\")"
   ]
  },
  {
   "cell_type": "markdown",
   "metadata": {},
   "source": [
    "Performance em buscas $O(1)$ comparados com $O(n)$ nas listas é o principal motivo que torna os sets tão úteis.\n",
    "\n",
    "Inserir elementos iguais não duplica valores, e a função para o cálculo das chaves é a `hash()`. O interpretador assumirá que valores com o mesmo retorno da função hash são iguais, então fique atento.\n"
   ]
  },
  {
   "cell_type": "code",
   "execution_count": 41,
   "metadata": {},
   "outputs": [
    {
     "data": {
      "text/plain": [
       "-8310370370016646700"
      ]
     },
     "execution_count": 41,
     "metadata": {},
     "output_type": "execute_result"
    }
   ],
   "source": [
    "hash(\"batata\")"
   ]
  },
  {
   "cell_type": "markdown",
   "metadata": {},
   "source": [
    "<a id=\"pt3.4\"></a>\n",
    "### 3.4 Dicionários\n",
    "\n",
    "Dicionário é uma estrutura de dado que mapeia uma chave à um valor. É parecido com lista, mas que podemos usar **_qualquer coisa_** (que podemos calcular sua hash) como índice, portanto a busca por uma chave é $O(1)$.\n",
    "\n",
    "Imagine que queremos mapear os conceito dos alunos de PLN aos seus nomes:\n",
    " - Joao : A\n",
    " - Beatriz : A\n",
    " - Ricardo : A\n",
    " - Ana : A\n",
    "\n",
    "*só tem aluno/a inteligente e esforçado/a*\n",
    "\n",
    "A melhor estrutura de dados que podemos usar para representar este tipo de informação são os Dicionários.\n",
    "\n",
    "A sintaxe para a instanciar o objeto é\n",
    "```py\n",
    "dicionario = dict()\n",
    "```\n",
    "\n",
    "Também é possível criar um dicionário utilizando esta notação mais concisa\n",
    "\n",
    "```py\n",
    "alunos_notas = {\n",
    "    \"Joao\"    : \"A\",\n",
    "    \"Beatriz\" : \"A\",\n",
    "    \"Ricardo\" : \"A\",\n",
    "    \"Ana\"     : \"A\"\n",
    "    }\n",
    "```\n",
    "\n",
    "Para inserir elementos num dicionário já existente, basta atribuir um valor à uma chave:\n",
    "```py\n",
    "dicionario[chave] = valor\n",
    "```\n",
    "\n",
    "Alguns métodos que podem ser úteis:\n",
    " - `dict.values()` : Retorna uma *view* 'dict_values' com todos os valores de 'dict'\n",
    " - `dict.keys()` : Retorna uma *view* 'dict_keys' com todas as chaves de 'dict'\n",
    " - `dict.items()` :  Retorna uma *view* 'dict_items' com todas as `chave:valor` de 'dict'\n",
    " - `dict.pop(key)` : Remove o par `chave:valor` de chave 'key'\n",
    " - `dict.update(dict2)` : Atualiza os pares `chave:valor` de 'dict' com 'dict2'\n",
    " \n",
    "Mais métodos na [documentação oficial](https://docs.python.org/3/library/stdtypes.html#mapping-types-dict)\n",
    "\n",
    "Uma *view* representa as referências para aqueles valores, então quando o objeto origem muda, a *view* muda também.\n"
   ]
  },
  {
   "cell_type": "code",
   "execution_count": 42,
   "metadata": {},
   "outputs": [
    {
     "name": "stdout",
     "output_type": "stream",
     "text": [
      "dict_items([('Joao', 'A'), ('Beatriz', 'A'), ('Ricardo', 'A'), ('Ana', 'A')])\n",
      "dict_items([('Joao', 'F'), ('Beatriz', 'A'), ('Ricardo', 'A'), ('Ana', 'A')])\n"
     ]
    }
   ],
   "source": [
    "alunos_notas = dict()\n",
    "alunos_notas['Joao'] = 'A'\n",
    "alunos_notas['Beatriz'] = 'A'\n",
    "alunos_notas['Ricardo'] = 'A'\n",
    "alunos_notas['Ana'] = 'A'\n",
    "\n",
    "notas1 = alunos_notas.items()\n",
    "print(notas1)\n",
    "\n",
    "alunos_notas['Joao'] = 'F' # Infelizmente, descobriu-se que Joao colou na prova\n",
    "\n",
    "print(notas1) # A view muda junto com o dicionario de origem"
   ]
  },
  {
   "cell_type": "code",
   "execution_count": 43,
   "metadata": {},
   "outputs": [
    {
     "name": "stdout",
     "output_type": "stream",
     "text": [
      "{'Joao': 'A', 'Beatriz': 'A', 'Ricardo': 'A', 'Ana': 'A'}\n"
     ]
    }
   ],
   "source": [
    "alunos_notas = {\n",
    "    \"Joao\"    : \"A\",\n",
    "    \"Beatriz\" : \"A\",\n",
    "    \"Ricardo\" : \"A\",\n",
    "    \"Ana\"     : \"A\"\n",
    "    }\n",
    "print(alunos_notas)"
   ]
  },
  {
   "cell_type": "markdown",
   "metadata": {},
   "source": [
    "Como dicionários são containers, podemos iterá-los"
   ]
  },
  {
   "cell_type": "code",
   "execution_count": 44,
   "metadata": {},
   "outputs": [
    {
     "name": "stdout",
     "output_type": "stream",
     "text": [
      "Alunos com o dicionario:\tJoao\tBeatriz\tRicardo\tAna\t\n",
      "Todos os alunos com a view:\tJoao\tBeatriz\tRicardo\tAna\t\n",
      "Todas as notas com a view:\tA\tA\tA\tA\t\n",
      "\n",
      "Todos os pares aluno:nota com a view:\n",
      "Joao : A\n",
      "Beatriz : A\n",
      "Ricardo : A\n",
      "Ana : A\n"
     ]
    }
   ],
   "source": [
    "# Iterar sobre o dicionario em si, é iterar sobre as chaves\n",
    "print(\"Alunos com o dicionario:\", end='\\t')\n",
    "for aluno in alunos_notas:\n",
    "    print(aluno, end='\\t')\n",
    "\n",
    "    \n",
    "print(\"\\nTodos os alunos com a view:\", end='\\t')\n",
    "for aluno in alunos_notas.keys():\n",
    "    print(aluno, end='\\t')\n",
    "    \n",
    "\n",
    "print(\"\\nTodas as notas com a view:\", end='\\t')\n",
    "for aluno in alunos_notas.values():\n",
    "    print(aluno, end='\\t')\n",
    "    \n",
    "\n",
    "print(\"\\n\\nTodos os pares aluno:nota com a view:\")\n",
    "for aluno, nota in alunos_notas.items():\n",
    "    print(f\"{aluno} : {nota}\")"
   ]
  },
  {
   "cell_type": "markdown",
   "metadata": {},
   "source": [
    "Pertinência em dicionários ocorre com base nas chaves, então:"
   ]
  },
  {
   "cell_type": "code",
   "execution_count": 45,
   "metadata": {},
   "outputs": [
    {
     "name": "stdout",
     "output_type": "stream",
     "text": [
      "Beatriz está na turma\n"
     ]
    }
   ],
   "source": [
    "if \"Beatriz\" in alunos_notas:\n",
    "    print(\"Beatriz está na turma\")"
   ]
  },
  {
   "cell_type": "markdown",
   "metadata": {},
   "source": [
    "funciona como o esperado.\n",
    "\n",
    "Recuperar um valor sabendo sua chave pode ser feito da seguinte forma:"
   ]
  },
  {
   "cell_type": "code",
   "execution_count": 46,
   "metadata": {},
   "outputs": [
    {
     "data": {
      "text/plain": [
       "'A'"
      ]
     },
     "execution_count": 46,
     "metadata": {},
     "output_type": "execute_result"
    }
   ],
   "source": [
    "alunos_notas['Beatriz']"
   ]
  },
  {
   "cell_type": "markdown",
   "metadata": {},
   "source": [
    "<a id=\"pt3.4\"></a>\n",
    "### 3.5 Matrizes\n",
    "\n",
    "Matrizes em Python (do ponto de vista inicial que este tutorial aborda) se resume a listas dentro de listas. Isto quer dizer que não é possível declarar uma estrutura já com o tamanho bem definido, temos que construir as linhas e colunas \"na mão\". \n"
   ]
  },
  {
   "cell_type": "code",
   "execution_count": 47,
   "metadata": {},
   "outputs": [
    {
     "name": "stdout",
     "output_type": "stream",
     "text": [
      "A matriz vazia [[], [], [], [], [], [], [], [], [], []]\n"
     ]
    }
   ],
   "source": [
    "matriz = []\n",
    "qtd_de_linhas = 10\n",
    "\n",
    "for i in range(qtd_de_linhas):\n",
    "    matriz.append([])\n",
    "    \n",
    "print(f\"A matriz vazia {matriz}\")"
   ]
  },
  {
   "cell_type": "code",
   "execution_count": 48,
   "metadata": {},
   "outputs": [
    {
     "name": "stdout",
     "output_type": "stream",
     "text": [
      "[[0, 1, 2, 3, 4, 5, 6, 7, 8, 9], [1, 2, 3, 4, 5, 6, 7, 8, 9, 10], [2, 3, 4, 5, 6, 7, 8, 9, 10, 11], [3, 4, 5, 6, 7, 8, 9, 10, 11, 12], [4, 5, 6, 7, 8, 9, 10, 11, 12, 13], [5, 6, 7, 8, 9, 10, 11, 12, 13, 14], [6, 7, 8, 9, 10, 11, 12, 13, 14, 15], [7, 8, 9, 10, 11, 12, 13, 14, 15, 16], [8, 9, 10, 11, 12, 13, 14, 15, 16, 17], [9, 10, 11, 12, 13, 14, 15, 16, 17, 18]]\n"
     ]
    }
   ],
   "source": [
    "matriz = []\n",
    "qtd_de_linhas = 10\n",
    "qtd_colunas = 10\n",
    "\n",
    "for i_linha in range(qtd_de_linhas):\n",
    "    linha = []\n",
    "    for j_coluna in range(qtd_colunas):\n",
    "        linha.append(i_linha+j_coluna)\n",
    "        \n",
    "    matriz.append(linha)\n",
    "    \n",
    "print(matriz)"
   ]
  },
  {
   "cell_type": "markdown",
   "metadata": {},
   "source": [
    "<a id='pt4'></a>\n",
    "## 4 Dicas e truques\n",
    "\n",
    "<a id='pt4.1'></a>\n",
    "### 4.1 Operador unpack\n",
    "Este operador nos permite \"desempacotar\" algumas estruturas de dados para trabalharmos melhor com seus valores de forma individual, e é denotado pelo caractere `*`.\n",
    "Com ele, é possível transformar todos os elementos de uma lista em valores separados para utilizar no `print`, por exemplo.\n",
    "Veja como podemos imprimir esta lista de uma forma um pouco mais bonita"
   ]
  },
  {
   "cell_type": "code",
   "execution_count": 49,
   "metadata": {},
   "outputs": [
    {
     "name": "stdout",
     "output_type": "stream",
     "text": [
      "a - b - c - d\n",
      "a - b - c - d\n"
     ]
    }
   ],
   "source": [
    "letras = ['a', 'b', 'c', 'd']\n",
    "print(*letras, sep=\" - \") # Lembrando que sep é o caractere usado para separar cada elemento printado\n",
    "# É equivalente a\n",
    "print('a', 'b', 'c', 'd', sep=' - ') # Por baixo dos panos, o que o interpretador faz é isso"
   ]
  },
  {
   "cell_type": "markdown",
   "metadata": {},
   "source": [
    "A matriz que fizemos no capítulo anterior pode ser printada de uma forma mais elegante usando o unpack "
   ]
  },
  {
   "cell_type": "code",
   "execution_count": 50,
   "metadata": {},
   "outputs": [
    {
     "name": "stdout",
     "output_type": "stream",
     "text": [
      "[0, 1, 2, 3, 4, 5, 6, 7, 8, 9]\n",
      "[1, 2, 3, 4, 5, 6, 7, 8, 9, 10]\n",
      "[2, 3, 4, 5, 6, 7, 8, 9, 10, 11]\n",
      "[3, 4, 5, 6, 7, 8, 9, 10, 11, 12]\n",
      "[4, 5, 6, 7, 8, 9, 10, 11, 12, 13]\n",
      "[5, 6, 7, 8, 9, 10, 11, 12, 13, 14]\n",
      "[6, 7, 8, 9, 10, 11, 12, 13, 14, 15]\n",
      "[7, 8, 9, 10, 11, 12, 13, 14, 15, 16]\n",
      "[8, 9, 10, 11, 12, 13, 14, 15, 16, 17]\n",
      "[9, 10, 11, 12, 13, 14, 15, 16, 17, 18]\n"
     ]
    }
   ],
   "source": [
    "print(*matriz, sep='\\n')"
   ]
  },
  {
   "cell_type": "markdown",
   "metadata": {},
   "source": [
    "<a id='pt4.2'></a>\n",
    "### 4.2 List comprehension\n",
    "\n",
    "Sempre que queremos construir uma lista, precisamos percorrer, de alguma forma, uma quantidade de elementos para incluí-los na lista original."
   ]
  },
  {
   "cell_type": "code",
   "execution_count": 51,
   "metadata": {},
   "outputs": [
    {
     "name": "stdout",
     "output_type": "stream",
     "text": [
      "[0, 2, 4, 6, 8]\n"
     ]
    }
   ],
   "source": [
    "numeros_pares = []\n",
    "for numero in range(10):\n",
    "    if numero % 2 == 0:\n",
    "        numeros_pares.append(numero)\n",
    "        \n",
    "print(numeros_pares)"
   ]
  },
  {
   "cell_type": "markdown",
   "metadata": {},
   "source": [
    "Mas, em python existe uma forma mais concisa de se fazer isso, e chamamos de de *list comprehension*, e esta é a sintaxe:\n",
    "```py\n",
    "[comando for v_laço in container if expressão_booleana]\n",
    "```"
   ]
  },
  {
   "cell_type": "code",
   "execution_count": 52,
   "metadata": {},
   "outputs": [
    {
     "name": "stdout",
     "output_type": "stream",
     "text": [
      "[0, 2, 4, 6, 8]\n"
     ]
    }
   ],
   "source": [
    "numeros_pares = [numero for numero in range(10) if numero % 2 == 0]\n",
    "print(numeros_pares)"
   ]
  },
  {
   "cell_type": "markdown",
   "metadata": {},
   "source": [
    "Também podemos fazer coisas mais elaboradas"
   ]
  },
  {
   "cell_type": "code",
   "execution_count": 53,
   "metadata": {},
   "outputs": [
    {
     "name": "stdout",
     "output_type": "stream",
     "text": [
      "\n",
      "A_CAPIVARA_(NOME_CIENTÍFICO:_HYDROCHOERUS_HYDROCHAERIS)_É_UMA_ESPÉCIE_DE_MAMÍFERO\n",
      "ROEDOR_DA_FAMÍLIA_CAVIIDAE_E_SUBFAMÍLIA_HYDROCHOERINAE._ALGUNS_AUTORES_CONSIDERAM\n",
      "QUE_DEVA_SER_CLASSIFICADA_EM_UMA_FAMÍLIA_PRÓPRIA._ESTÁ_INCLUÍDA_NO_MESMO_GRUPO_DE\n",
      "ROEDORES_AO_QUAL_SE_CLASSIFICAM_AS_PACAS,_CUTIAS,_OS_PREÁS_E_O_PORQUINHO-DA-ÍNDIA.\n",
      "OCORRE_POR_TODA_A_AMÉRICA_DO_SUL_AO_LESTE_DOS_ANDES_EM_HABITATS_ASSOCIADOS_A_RIOS,\n",
      "LAGOS_E_PÂNTANOS,_DO_NÍVEL_DO_MAR_ATÉ_1_300_M_DE_ALTITUDE._EXTREMAMENTE_ADAPTÁVEL,\n",
      "PODE_OCORRER_EM_AMBIENTES_ALTAMENTE_ALTERADOS_PELO_SER_HUMANO.\n"
     ]
    }
   ],
   "source": [
    "def normalize(x):\n",
    "    return x.strip().upper().replace(\" \", \"_\")\n",
    "\n",
    "texto = \"\"\"\n",
    "A capivara (nome científico: Hydrochoerus hydrochaeris) é uma espécie de mamífero \n",
    "roedor da família Caviidae e subfamília Hydrochoerinae. Alguns autores consideram\n",
    "que deva ser classificada em uma família própria. Está incluída no mesmo grupo de\n",
    "roedores ao qual se classificam as pacas, cutias, os preás e o porquinho-da-índia.\n",
    "Ocorre por toda a América do Sul ao leste dos Andes em habitats associados a rios,\n",
    "lagos e pântanos, do nível do mar até 1 300 m de altitude. Extremamente adaptável,\n",
    "pode ocorrer em ambientes altamente alterados pelo ser humano.\"\"\"\n",
    "\n",
    "lista_de_frases = [normalize(linha) for linha in texto.split('\\n')]\n",
    "\n",
    "print(*lista_de_frases, sep=\"\\n\")"
   ]
  },
  {
   "cell_type": "markdown",
   "metadata": {},
   "source": [
    "Também podemos fazer set comprehension e dict comprehensions, mas neste caso usamos as chaves no lugar dos colchetes."
   ]
  },
  {
   "cell_type": "code",
   "execution_count": 54,
   "metadata": {},
   "outputs": [
    {
     "name": "stdout",
     "output_type": "stream",
     "text": [
      "{1, 3, 5, 7, 9}\n"
     ]
    }
   ],
   "source": [
    "set_c = {x for x in range(10) if x % 2}\n",
    "print(set_c)\n"
   ]
  },
  {
   "cell_type": "code",
   "execution_count": 55,
   "metadata": {},
   "outputs": [
    {
     "name": "stdout",
     "output_type": "stream",
     "text": [
      "{'Luiza': 'A', 'Carlos': 'A', 'Eduardo': 'A', 'Clotilde': 'A'}\n"
     ]
    }
   ],
   "source": [
    "alunos = [\"Luiza\", \"Carlos\", \"Eduardo\", \"Clotilde\"] # Mais alunos de PLN\n",
    "alunos_notas = {aluno:'A' for aluno in alunos}\n",
    "print(alunos_notas)"
   ]
  }
 ],
 "metadata": {
  "kernelspec": {
   "display_name": "Python 3",
   "language": "python",
   "name": "python3"
  },
  "language_info": {
   "codemirror_mode": {
    "name": "ipython",
    "version": 3
   },
   "file_extension": ".py",
   "mimetype": "text/x-python",
   "name": "python",
   "nbconvert_exporter": "python",
   "pygments_lexer": "ipython3",
   "version": "3.7.3"
  }
 },
 "nbformat": 4,
 "nbformat_minor": 2
}
