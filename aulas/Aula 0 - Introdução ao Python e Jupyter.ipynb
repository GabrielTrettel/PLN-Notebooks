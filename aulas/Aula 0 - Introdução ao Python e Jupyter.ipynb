{
 "cells": [
  {
   "cell_type": "markdown",
   "metadata": {},
   "source": [
    "## Motivação\n",
    "\n",
    "Os trabalhos relacionados com processamento de linguagem natural (PLN) envolvem, em essência, strings e matrizes. Estes tipos de estruturas de dados podem ser encontradas em qualquer linguagem de programação moderna, mas, nem todas permitem uma interface amigável com o programador; qualquer pessoa que já precisou processar strings em C já percebeu que não é uma tarefa tão fácil, ainda que o resultado seja executado de forma bem rápida. Em Python, o interpretador toma conta de vários detalhes em nome do programador para que ele não precise se preocupar com minúcias ao longo do desenvolvimento do algoritmo. Este tipo de comportamento em *run-time* acaba consumindo um certo processamento da máquina, tornando sua execução mais lenta, entretanto, o objetivo das aulas reside no entendimento da matéria e não na criação de processos super eficientes e escaláveis. Portanto, nossos exemplos não serão grandes o suficiente para que a performance da linguagem seja algo que precise ser levada em conta.\n",
    "\n",
    "\n",
    "### Um pouco sobre a linguagem\n",
    "Python é uma linguagem de programação alto nível, interpretada, de propósito geral e multi-paradigma criada por Guido van Rossum sendo lançada em 1991. É dinamicamente tipada, os blocos são indicados por espaços em branco (“*tabs*”), ao invés de chaves e possui uma sintaxe simples de ser utilizada.\n",
    "\n",
    "\n",
    "### Um pouco sobre o Jupyter\n",
    "O Jupyter é um programa derivado do IPython que pode ser utilizado para programar em Python, te possibilitando escrever código junto com textos no mesmo arquivo, organizando o fluxo de ideias ao longo do documento. O nome Jupyter é uma referência das 3 principais linguagens que ele suporta, **Ju**lia, **pyt**hon e **R**\n",
    "\n",
    "\n",
    "## Instalação do ambiente\n",
    "Se voçẽ usa Windows, é recomendado instalar alguma distribuição linux em *dualboot* ou máquina virtual para cumprir as atividades da disciplina. Mas, existe a possibilidade de instalar o Anaconda no windows para usar o jupyter.\n",
    "\n",
    "Em Linux, o python já vem instalado pois várias coisas do SO utilizam esta linguagem, e nada precisa ser feito. Para instalar o Jupyter, basta usar seu gerenciador de pacotes para carregar o necessário. O nome do pacote costuma ser jupyter-notebook, então se você rodar num terminal algo como: “sudo apt install jupyter-notebook” para derivados do Debian, deveria funcionar. O mesmo para derivados do Arch, Fedora, dentre outros, apenas trocando pelo gerenciador de pacotes específico\n"
   ]
  }
 ],
 "metadata": {
  "kernelspec": {
   "display_name": "Python 3",
   "language": "python",
   "name": "python3"
  },
  "language_info": {
   "codemirror_mode": {
    "name": "ipython",
    "version": 3
   },
   "file_extension": ".py",
   "mimetype": "text/x-python",
   "name": "python",
   "nbconvert_exporter": "python",
   "pygments_lexer": "ipython3",
   "version": "3.7.3"
  }
 },
 "nbformat": 4,
 "nbformat_minor": 2
}
