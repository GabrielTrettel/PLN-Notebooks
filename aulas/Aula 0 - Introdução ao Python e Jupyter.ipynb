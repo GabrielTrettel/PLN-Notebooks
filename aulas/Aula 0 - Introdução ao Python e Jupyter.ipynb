{
 "cells": [
  {
   "cell_type": "markdown",
   "metadata": {},
   "source": [
    "# Introdução\n",
    "\n",
    "Este tutorial tem como principal objetivo ser um primeiro contato para quem nunca programou em Python, mas já tem noções de como programar. Os exemplos serão simples e não esperamos que você saia daqui sabendo *algoritmos* de forma aprofundada, a ideia é apresentar de forma simples a sintaxe da linguagem.\n",
    "\n",
    "\n",
    "***\n",
    "## Lista de conteúdos:\n",
    "- [1 - Estruturas básicas da linguagem](#pt1)\n",
    " - [1.1 - Variáveis, expressões, comandos e operadores](#pt1.1)\n",
    " - [1.2 - Funções](#pt1.2)\n",
    "\n",
    "- [2 - Controle de fluxo](#pt2)\n",
    "  - [2.1 - Estrutura de seleção](#pt2.1)\n",
    "  - [2.2 - Estruturas de repetição for](#pt2.2)\n",
    "  - [2.3 - Estruturas de repetição while](#pt2.3)\n",
    "  \n",
    "- [3 - Estruturas de dados nativas](#pt3)\n",
    "  - [3.1 - Stings](#pt3.1)\n",
    "  - [3.2 - Listas](#pt3.2)\n",
    "  - [3.3 - Conjuntos](#pt3.3)\n",
    "  - [3.4 - Dicionários](#pt3.4)\n",
    "***\n",
    "\n",
    "## Motivação\n",
    "\n",
    "Os trabalhos relacionados com processamento de linguagem natural (PLN) envolvem, em essência, strings e matrizes. Estes tipos de estruturas de dados podem ser encontradas em qualquer linguagem de programação moderna, mas, nem todas permitem uma interface amigável com o programador; qualquer pessoa que já precisou processar strings em C já percebeu que não é uma tarefa tão fácil, ainda que o resultado seja executado de forma bem rápida. Em Python, o interpretador toma conta de vários detalhes em nome do programador para que ele não precise se preocupar com minúcias ao longo do desenvolvimento do algoritmo. Este tipo de comportamento em *run-time* acaba consumindo um certo processamento da máquina, tornando sua execução mais lenta, entretanto, o objetivo das aulas reside no entendimento da matéria e não na criação de processos super eficientes e escaláveis. Portanto, nossos exemplos não serão grandes o suficiente para que a performance da linguagem seja algo que precise ser levada em conta.\n",
    "\n",
    "\n",
    "### Um pouco sobre Python\n",
    "Python é uma linguagem de programação alto nível, interpretada, de propósito geral e multi-paradigma criada por Guido van Rossum sendo lançada em 1991. É dinamicamente tipada, os blocos são indicados por espaços em branco (“*tabs*”), ao invés de chaves e possui uma sintaxe simples de ser utilizada. Os valores são passados por referência nas funções e é majoritariamente orientado a objetos.\n",
    "\n",
    "\n",
    "### Um pouco sobre o Jupyter\n",
    "O Jupyter é um programa derivado do IPython que pode ser utilizado para programar em Python, te possibilitando escrever código junto com textos no mesmo arquivo, organizando o fluxo de ideias ao longo do documento. O nome Jupyter é uma referência das 3 principais linguagens que ele suporta, [**Ju**lia](https://julialang.org/), **pyt**hon e **R**\n",
    "\n",
    "\n",
    "## Instalação do ambiente\n",
    "Se voçẽ usa Windows, é recomendado instalar alguma distribuição linux em *dualboot* ou máquina virtual para cumprir as atividades da disciplina. Mas, existe a possibilidade de instalar o Anaconda no windows para usar o jupyter.\n",
    "\n",
    "Em Linux, o python já vem instalado pois várias coisas do SO utilizam esta linguagem, e nada precisa ser feito. Para instalar o Jupyter, basta usar seu gerenciador de pacotes para carregar o necessário. O nome do pacote costuma ser jupyter-notebook, então se você rodar num terminal algo como: “sudo apt install jupyter-notebook” para derivados do Debian, deveria funcionar. O mesmo para derivados do Arch, Fedora, dentre outros, apenas trocando pelo gerenciador de pacotes específico.\n",
    "\n",
    "Assim que você conseguir instalar o Jupyter no seu computador, pode clonar este repositório no seu ambiente local para ter todos os arquivos à mão. a execução do Jupyter é simples, basta rodar \"jupyter-notebook\" num terminal que uma aba será aberta no seu navegador padrão; então navegue onde o repositório está clonado (ou onde você quer criar os arquivos das atividades) e abra/crie os arquivos com a extensão ipynb.\n",
    "\n",
    "\n",
    "### Utilização do Jupyter\n",
    "O Jupyter te permite, dentre inúmeras outras coisas, criar células de texto que podem ser interpretadas como [Markdown](https://pt.wikipedia.org/wiki/Markdown) (como esta celula, por exemplo) um tipo de linguagem de marcação que possibilita a formatação simples de texto com alguns tokens, assim como LaTeX e HTML. Se este notebook estiver aberto no seu jupyter local, dê dois cliques nesta célula e veja como a formatação em Markdow funciona.\n",
    "\n",
    "O outro tipo de célula que pode ser utilizada, são as de código, onde programas em python são escritos e o Kernel do Jpupyter consegue executar e te entregar o resultado do programa na tela.\n",
    "\n",
    " - Para **editar** uma célula, basta dar dois cliques em qualquer lugar dentro de sua região\n",
    " - Para **executar** uma célula, basta utilizar o atalho `Ctrl + Enter` com a célula desejada em foco.\n",
    " \n",
    "O Jupyter possui um comportamento parecido com o [Vim](https://pt.wikipedia.org/wiki/Vim), com um modo \"normal\" e outro de \"edição\". Se estiver no modo normal, é possível navegar com as setas -hjkl não funcionam- e para começar a editar é só apertar `Enter` com a célula em foco (a célula em foco no modo normal fica com a linha\n",
    "<font color=\"blue\">azul</font> e no modo de edição <font color=\"green\">verde</font>). Para sair do modo de edição, basta apertar `Esc`. No modo normal, os comandos mais úteis são:\n",
    " - Adicionar célula acima(above): `A`\n",
    " - Adicionar célula abaixo(below): `B`\n",
    " - Remover uma célula: `X`\n",
    " - Transformar a célula para markdow: `M`\n",
    " - Transformar a célula para código: `Y`\n",
    " \n",
    "Um detalhe particularmente curioso sobre o Jupyter é que cada vez que uma célula de código é executada, todo seu conteúdo é armazenado num buffer. Então todas as variáveis iniciadas numa celula podem ser acessadas por uma outra célula que foi executada depois.\n",
    "\n",
    "\n",
    "***\n",
    "\n",
    "<a id=\"pt1\"></a>\n",
    "\n",
    "# Parte 1: Estruturas básicas da linguagem\n",
    "\n",
    "\n",
    "<a id=\"pt1.1\"></a>\n",
    "## 1.1 Variáveis, expressões , comandos e operadores\n",
    "   \n",
    "Em qualquer linguagem [Turing completa](https://pt.wikipedia.org/wiki/Turing_completude), algum tipo de estrutura que guarde informação se faz necessária, e, em python, estas são as *variáveis*. Como a linguagem é dinamicamente tipada, não existe a necessidade de declarar variáveis com um tipo já determinado, já que elas podem mudar o conteúdo a qualquer momento."
   ]
  },
  {
   "cell_type": "code",
   "execution_count": 6,
   "metadata": {},
   "outputs": [
    {
     "name": "stdout",
     "output_type": "stream",
     "text": [
      "Batata\n",
      "1\n",
      "0.5\n",
      "['Batata-frita', 'Batata-corada']\n",
      "15000000000.0\n",
      "O tipo da variavel_qualquer é:  <class 'float'>\n"
     ]
    }
   ],
   "source": [
    "variavel_qualquer = \"Batata\"\n",
    "print(variavel_qualquer)\n",
    "\n",
    "variavel_qualquer = 1\n",
    "print(variavel_qualquer)\n",
    "\n",
    "variavel_qualquer = 0.5\n",
    "print(variavel_qualquer)\n",
    "\n",
    "variavel_qualquer = [\"Batata-frita\", \"Batata-corada\"]\n",
    "print(variavel_qualquer)\n",
    "\n",
    "variavel_qualquer = 1.5E10\n",
    "\n",
    "print(variavel_qualquer)\n",
    "print(\"O tipo da variavel_qualquer é: \", type(variavel_qualquer))"
   ]
  },
  {
   "cell_type": "markdown",
   "metadata": {},
   "source": [
    "No exemplo a cima, `variavel_qualquer` recebeu diversos tipos de dados diferentes ao longo da execução e em nenhum momento o interpretador reclamou que você estava misturando tipos diferentes na mesma ariável. \n",
    "\n",
    "Ainda que seja permitido este tipo de comportamento, não é bem visto misturar tipos diferentes numa mesma variável, pois o código acaba ficando semanticamente confuso. Uma pessoa (inclusive você no futuro) pode acabar se confundindo sobre o que está sendo operado naquela linha.\n",
    "\n",
    "A função utilizada na ultima linha, `type()`, recebe como argumento uma variável ou expressão e te retorna o tipo da váriavel ou do resultado da expressão.\n",
    "    \n",
    "Uma **expressão** é uma combinação de operadores, valores e variáveis que pode ser avaliado pelo interpretador. O exemplo abaixo mostra como uma expressão pode ser construída."
   ]
  },
  {
   "cell_type": "code",
   "execution_count": 14,
   "metadata": {},
   "outputs": [
    {
     "data": {
      "text/plain": [
       "3"
      ]
     },
     "execution_count": 14,
     "metadata": {},
     "output_type": "execute_result"
    }
   ],
   "source": [
    "1 + 2"
   ]
  },
  {
   "cell_type": "markdown",
   "metadata": {},
   "source": [
    "Python suporta diversos tipos de **operadores** e existe sobrecarga de operador com comportamentos diferentes dependendo do tipo de dado que está sendo utilizado. Este é um dos argumentos que sustenta o acordo de não mudar o tipo de uma variável ao longo da execução. Os principais são:"
   ]
  },
  {
   "cell_type": "code",
   "execution_count": 26,
   "metadata": {},
   "outputs": [
    {
     "name": "stdout",
     "output_type": "stream",
     "text": [
      "Soma simples:  3\n",
      "Mubtração simples:  -1\n",
      "Multiplicação simples:  12\n",
      "Divisão inteira:  3\n",
      "Divisão em ponto flutuante:  3.3333333333333335\n",
      "Resto da divisão inteira:  1\n",
      "Potencia:  1024\n",
      "Raíz usando potencia:  32.0\n",
      "\n",
      "Soma de uma string com outra\n",
      "Multiplicação com string Multiplicação com string Multiplicação com string Multiplicação com string \n",
      "Multiplicação com string Multiplicação com string Multiplicação com string Multiplicação com string \n"
     ]
    }
   ],
   "source": [
    "print(\"Soma simples: \", 1+2)\n",
    "print(\"Mubtração simples: \", 1-2)\n",
    "print(\"Multiplicação simples: \", 3*4)\n",
    "print(\"Divisão inteira: \", 10//3)\n",
    "print(\"Divisão em ponto flutuante: \", 10/3) # A precisão padrão do ponto flutuamte é 15 casas decimais\n",
    "print(\"Resto da divisão inteira: \", 10%3)\n",
    "print(\"Potencia: \", 2**10)\n",
    "print(\"Raíz usando potencia: \", 1024**0.5) # Neste caso, raíz quadrada\n",
    "\n",
    "# Os mesmos iperadores também podem ser usados cou outros tipos de dados,\n",
    "# por isso, cuidado\n",
    "print(\"\\nSoma de uma string\" + \" com outra\")\n",
    "print(\"Multiplicação com string \" * 4)\n",
    "print(4 * \"Multiplicação com string \")"
   ]
  },
  {
   "cell_type": "markdown",
   "metadata": {},
   "source": [
    "Um **comando** é uma instrução enviada ao interpretador para que ele execute algum tipo de atividade específica. Exemplos de comando podem ser a função `print()`, que utilizamos anteriormente, e atribuições. Comandos podem ou não retornar retornar informações, e cabe ao programador/a decidir o que fazer em cada um dos casos. "
   ]
  },
  {
   "cell_type": "code",
   "execution_count": 19,
   "metadata": {},
   "outputs": [
    {
     "name": "stdout",
     "output_type": "stream",
     "text": [
      "Isto é um comando!\n"
     ]
    }
   ],
   "source": [
    "# O print é um comando\n",
    "print(\"Isto é um comando!\")\n",
    "\n",
    "# Atribuição também é um comando\n",
    "variavel = \"Este é outro comando que não indica ao usuário que foi executado\""
   ]
  },
  {
   "cell_type": "markdown",
   "metadata": {},
   "source": [
    "Sempre que queremos imprimir algo na tela, precisamos utilizar a função `print`; que recebe uma variável, valor ou expressão como argumento. A função recebe zero ou mais elementos separados por vírgula, e imprime cada um deles com uma espaço entre cada e termina a frase com uma quebra de linha.\n",
    "\n",
    "Existem caracteres reservados que são utilizados para a formatação da saída nos prints e não são mostrados na tela, o `\\n` quebra a linha enquanto o `\\t` é a tabulação."
   ]
  },
  {
   "cell_type": "code",
   "execution_count": 24,
   "metadata": {},
   "outputs": [
    {
     "name": "stdout",
     "output_type": "stream",
     "text": [
      "Primeira string e seguda string todas na primeira linha\n",
      "\n",
      "Quarta string que está na terceira linha impressa\n",
      "Exemplo de print com uma expressão:\n",
      "O resultado de 1+2 é:  3\n"
     ]
    }
   ],
   "source": [
    "print(\"Primeira string\", \"e segunda string\", \"todas na primeira linha\")\n",
    "print()  # apenas imprime uma linha em branco\n",
    "print(\"Quarta string que está na terceira linha impressa\")\n",
    "print(\"Exemplo de print com uma expressão:\\nO resultado de 1+2 é: \", 1+2)"
   ]
  },
  {
   "cell_type": "markdown",
   "metadata": {},
   "source": [
    "<a id=\"pt1.2\"></a>\n",
    "## 1.2 Funções\n",
    "\n",
    "No contexto de programação, função é uma sequência nomeada de instruções ou comandos, que realizam uma operação desejada. Esta operação é especificada numa definição de função. Existe, as funções nativas da linguagem que já estão implementadas e podemos apenas utiliza-las. Até o momento já vimos duas, a `type` que retorna o tipo de seu argumento e a `print` que imprime na tela, entretanto existem diversas outras. \n",
    "\n",
    "Uma tarefa comum ao longo da programação é a conversão de diferentes tipos, quando um operador tem comportamentos distintos dependendo do que se é operado. Suponha que você deseja concatenar uma string *A* com um número inteiro *B*. O operador da concatenação em strings é o `+`, que também é usado para adição aritimética, e por isso não podemos executar a concatenação logo de cara senão obtemos um erro:"
   ]
  },
  {
   "cell_type": "code",
   "execution_count": 10,
   "metadata": {},
   "outputs": [
    {
     "ename": "TypeError",
     "evalue": "can only concatenate str (not \"int\") to str",
     "output_type": "error",
     "traceback": [
      "\u001b[0;31m---------------------------------------------------------------------------\u001b[0m",
      "\u001b[0;31mTypeError\u001b[0m                                 Traceback (most recent call last)",
      "\u001b[0;32m<ipython-input-10-9293684230b9>\u001b[0m in \u001b[0;36m<module>\u001b[0;34m\u001b[0m\n\u001b[1;32m      1\u001b[0m \u001b[0mA\u001b[0m \u001b[0;34m=\u001b[0m \u001b[0;34m\"Uma string que vai anteceder um inteiro: \"\u001b[0m\u001b[0;34m\u001b[0m\u001b[0;34m\u001b[0m\u001b[0m\n\u001b[1;32m      2\u001b[0m \u001b[0mB\u001b[0m \u001b[0;34m=\u001b[0m \u001b[0;36m1\u001b[0m\u001b[0;34m\u001b[0m\u001b[0;34m\u001b[0m\u001b[0m\n\u001b[0;32m----> 3\u001b[0;31m \u001b[0mprint\u001b[0m\u001b[0;34m(\u001b[0m\u001b[0mA\u001b[0m\u001b[0;34m+\u001b[0m\u001b[0mB\u001b[0m\u001b[0;34m)\u001b[0m\u001b[0;34m\u001b[0m\u001b[0;34m\u001b[0m\u001b[0m\n\u001b[0m",
      "\u001b[0;31mTypeError\u001b[0m: can only concatenate str (not \"int\") to str"
     ]
    }
   ],
   "source": [
    "A = \"Uma string que vai anteceder um inteiro: \"\n",
    "B = 1\n",
    "print(A+B)"
   ]
  },
  {
   "cell_type": "markdown",
   "metadata": {},
   "source": [
    "É necessário converter a variável `B` para string antes de concatenar as duas no print"
   ]
  },
  {
   "cell_type": "code",
   "execution_count": 30,
   "metadata": {},
   "outputs": [
    {
     "name": "stdout",
     "output_type": "stream",
     "text": [
      "Uma string que vai receber um inteiro: 1\n"
     ]
    }
   ],
   "source": [
    "B_str = str(B)\n",
    "print(A+B_str)"
   ]
  },
  {
   "cell_type": "markdown",
   "metadata": {},
   "source": [
    "Nestes casos em que o propósito é montar strings a partir de valores de variáveis, pode ser chato ter que ficar convertendo tudo para string no momento de concatenar, e, por isso, na versão 3.6 do python foi introduzido uma funcionalidade chamada de *f-strings*, uma forma de criar strings \"formatadas\" incluindo código dentro da definição das aspas. A sintaxe é simples, antes da primeira aspa, é necessário ter um `f` e dentro da string, tudo que estiver entre chaves será interpretado como uma expressão."
   ]
  },
  {
   "cell_type": "code",
   "execution_count": 15,
   "metadata": {},
   "outputs": [
    {
     "name": "stdout",
     "output_type": "stream",
     "text": [
      "Posso colocar um texto aqui e antes do que queríamos -> Uma string que vai anteceder um inteiro: 1\n",
      "A soma de 1 e 3 é 4\n",
      "Minhas frutas favoritas são banana, abacate, maçã, kiwi\n"
     ]
    }
   ],
   "source": [
    "print(f\"Posso colocar um texto aqui e antes do que queríamos -> {A}{B}\")\n",
    "print(f\"A soma de 1 e 3 é {1+3}\")\n",
    "\n",
    "frutas = [\"banana\", \"abacate\", \"maçã\", \"kiwi\"]\n",
    "print(f\"Minhas frutas favoritas são {', '.join(frutas)}\")  # Vamos falar melhor sobre o join em listas"
   ]
  },
  {
   "cell_type": "markdown",
   "metadata": {},
   "source": [
    "Ainda sobre funções de conversão de tipos, temos a `float` e `int`"
   ]
  },
  {
   "cell_type": "code",
   "execution_count": 45,
   "metadata": {},
   "outputs": [
    {
     "name": "stdout",
     "output_type": "stream",
     "text": [
      "string para int:    123\n",
      "string para float:  3.14\n",
      "float para int:     5\n",
      "int para float:     6.0\n"
     ]
    }
   ],
   "source": [
    "print(\"string para int:   \", int(\"123\"))\n",
    "print(\"string para float: \", float(\"3.14\"))\n",
    "print(\"float para int:    \", int(5.1))\n",
    "print(\"int para float:    \", float(6))"
   ]
  },
  {
   "cell_type": "markdown",
   "metadata": {},
   "source": [
    "Se a conversão for entre elementos inválidos, o interpretador retornará um erro e não fará a conersão"
   ]
  },
  {
   "cell_type": "code",
   "execution_count": 46,
   "metadata": {},
   "outputs": [
    {
     "ename": "ValueError",
     "evalue": "invalid literal for int() with base 10: 'qualquer coisa que não da pra transformar em int'",
     "output_type": "error",
     "traceback": [
      "\u001b[0;31m---------------------------------------------------------------------------\u001b[0m",
      "\u001b[0;31mValueError\u001b[0m                                Traceback (most recent call last)",
      "\u001b[0;32m<ipython-input-46-ff368cdb6951>\u001b[0m in \u001b[0;36m<module>\u001b[0;34m\u001b[0m\n\u001b[0;32m----> 1\u001b[0;31m \u001b[0mprint\u001b[0m\u001b[0;34m(\u001b[0m\u001b[0;34m\"string para int:   \"\u001b[0m\u001b[0;34m,\u001b[0m \u001b[0mint\u001b[0m\u001b[0;34m(\u001b[0m\u001b[0;34m\"qualquer coisa que não da pra transformar em int\"\u001b[0m\u001b[0;34m)\u001b[0m\u001b[0;34m)\u001b[0m\u001b[0;34m\u001b[0m\u001b[0;34m\u001b[0m\u001b[0m\n\u001b[0m",
      "\u001b[0;31mValueError\u001b[0m: invalid literal for int() with base 10: 'qualquer coisa que não da pra transformar em int'"
     ]
    }
   ],
   "source": [
    "print(\"string para int:   \", int(\"qualquer coisa que não da pra transformar em int\"))"
   ]
  },
  {
   "cell_type": "markdown",
   "metadata": {},
   "source": [
    "Além das funções que já vem por padrão, é possível criar as nossas da forma como quisermos. A sintaxe base da assinatura das funções em python podem ser as seguintes:\n",
    "```py\n",
    "def f1(arg1, arg2):\n",
    "\n",
    "def f2(arg1 = \"\", arg2 = 0):\n",
    "\n",
    "def f3(arg1, arg2 = 0):\n",
    "```\n",
    " - Quando queremos uma função chamada `f1` que recebe dois argumentos, `arg1` e `arg2`, que podem ser qualquer de qualquer tipo, já que python é dinâmicamente tipado.\n",
    " - A função `f2` também recebe dois argumentos, mas, desta vez, cada um deles possui um velor *default* associado a elas. Portanto, se na chamada da função não for passado seus argumentos, estes serão uma string vazia e zero.\n",
    " - A função `f3` Mistura elementos da função  `f1` e `f2`, tendo um de seus argumentos com um valor *default* e o outro não. Esta forma é válida, mas neste caso a ordem é importante.\n",
    "\n",
    "```py\n",
    "def f4(arg1 = 0, arg2):\n",
    "```\n",
    "A função `f4` retorna um erro, já que um argumento não-*default* não pode vir depois de um que possui."
   ]
  },
  {
   "cell_type": "code",
   "execution_count": 3,
   "metadata": {},
   "outputs": [
    {
     "ename": "SyntaxError",
     "evalue": "non-default argument follows default argument (<ipython-input-3-cfa39b0a4c95>, line 1)",
     "output_type": "error",
     "traceback": [
      "\u001b[0;36m  File \u001b[0;32m\"<ipython-input-3-cfa39b0a4c95>\"\u001b[0;36m, line \u001b[0;32m1\u001b[0m\n\u001b[0;31m    def f4(arg1 = 0, arg2):\u001b[0m\n\u001b[0m          ^\u001b[0m\n\u001b[0;31mSyntaxError\u001b[0m\u001b[0;31m:\u001b[0m non-default argument follows default argument\n"
     ]
    }
   ],
   "source": [
    "def f4(arg1 = 0, arg2):\n",
    "    return arg1 * arg2\n",
    "\n",
    "f4(2)"
   ]
  },
  {
   "cell_type": "markdown",
   "metadata": {},
   "source": [
    "Mas, um detalhe não pode passar desapercebido aqui: definir um valor *deault* no argumento da função não quer dizer que ele só poderá ser daquele tipo. O ponto é que este valor só será utilizado se na chamada ele for omitido."
   ]
  },
  {
   "cell_type": "code",
   "execution_count": 9,
   "metadata": {},
   "outputs": [
    {
     "name": "stdout",
     "output_type": "stream",
     "text": [
      "Chamada de f1 sem passar o argumento:       <class 'str'>\n",
      "Chamada de f1 passando int como argumento:  <class 'int'>\n"
     ]
    }
   ],
   "source": [
    "def f1(arg1 = \"\"):\n",
    "    return arg1\n",
    "\n",
    "print(\"Chamada de f1 sem passar o argumento:      \", type( f1()   ))\n",
    "print(\"Chamada de f1 passando int como argumento: \", type( f1(10) ))"
   ]
  },
  {
   "cell_type": "markdown",
   "metadata": {},
   "source": [
    "<a id=\"pt2\"></a>\n",
    "# Parte 2: Controle de fluxo\n",
    "\n",
    "<a id=\"pt2.1\"></a>\n",
    "## 2.1 Estrutura de seleção\n",
    "\n",
    "Estruturas de seleção, ou expressão condicional ou ainda construção condicional, é a forma como podemos decidir no *runtime* qual parte de código será executada dependendo do resultado de uma expressão booleana.\n",
    "\n",
    "Em python, não é necessário incluir os parêntesis na sintaxe do `if`, mas se você se sente mais confortável o usando, fique a vontade."
   ]
  },
  {
   "cell_type": "code",
   "execution_count": 34,
   "metadata": {},
   "outputs": [
    {
     "name": "stdout",
     "output_type": "stream",
     "text": [
      "Abacate é uma fruta!\n",
      "True é sempre verdadeiro, False não.\n",
      "O resto da divisão inteira de 826423 por 23 não é zero\n"
     ]
    }
   ],
   "source": [
    "frutas = [\"banana\", \"abacate\", \"maçã\", \"kiwi\"]\n",
    "\n",
    "if \"abacate\" in frutas:\n",
    "    print(\"Abacate é uma fruta!\")\n",
    "else:\n",
    "    print(\"Abacate não é uma fruta\")\n",
    "    \n",
    "\n",
    "    \n",
    "if True:\n",
    "    print(\"True é sempre verdadeiro, False não.\")\n",
    "    \n",
    "    \n",
    "    \n",
    "if 826423 % 23 == 0:\n",
    "    print(\"O resto da divisão inteira de 826423 por 23 é zero\")\n",
    "else:\n",
    "    print(\"O resto da divisão inteira de 826423 por 23 não é zero\")"
   ]
  },
  {
   "cell_type": "markdown",
   "metadata": {},
   "source": [
    "Se você está acostumado a programar em C ou Java, deve ter visto que existe um tipo de dado chamado `Null` que serve para representar que uma determinada variavel \"não tem um valor\" associado a ela. Em python é o `None`.\n",
    "\n",
    "Como o `None` tem a semântica de \"não ser nada\", podemos comparálo utilizando o sinal de igualdade ou desigualdade, mas a forma idiomática (como quem utiliza a linguagem prefere usar) é comparar usando o `is`"
   ]
  },
  {
   "cell_type": "code",
   "execution_count": 33,
   "metadata": {},
   "outputs": [
    {
     "name": "stdout",
     "output_type": "stream",
     "text": [
      "é None com igual\n",
      "é None com is\n"
     ]
    }
   ],
   "source": [
    "a = None\n",
    "if a == None:\n",
    "    print(\"é None com igual\")\n",
    "    \n",
    "if a is None:\n",
    "    print(\"é None com is\")\n",
    "    \n",
    "if a is not None:\n",
    "    print(\"não é None com is\")\n",
    "    "
   ]
  },
  {
   "cell_type": "markdown",
   "metadata": {},
   "source": [
    "A diferença entre o `==` e `is` é que o sinal de igualdade avalia se o **valor** sendo comparado é igual enquanto o `is` verifica se ambas as variáveis/valores são a mesma coisa, se elas se referem a mesma posição da memória."
   ]
  },
  {
   "cell_type": "code",
   "execution_count": 25,
   "metadata": {},
   "outputs": [
    {
     "name": "stdout",
     "output_type": "stream",
     "text": [
      "A == B\n",
      "139692339835528 139692339105416\n"
     ]
    }
   ],
   "source": [
    "A = [1, 2, 3]\n",
    "B = [1, 2, 3]\n",
    "\n",
    "if A == B: print(\"A == B\")\n",
    "if A is B: print(\"A is B\")\n",
    "\n",
    "print(id(A), id(B))"
   ]
  },
  {
   "cell_type": "markdown",
   "metadata": {},
   "source": [
    "O segundo `if` não imprime nada na tela já que ambas as variáveis são diferentes (ainda que possuem o mesmo valor) pois elas ocupam posições de memória distintas. Podemos conferir isso olhando que o `id` de cada uma é distinto.\n",
    "\n",
    "O que você esperaria como resposta se o seguinte código for executado?\n",
    "```py\n",
    "A = 10\n",
    "B = 10\n",
    "\n",
    "if A == B: print(\"A == B\")\n",
    "if A is B: print(\"A is B\")\n",
    "```\n",
    "Levando em conta que todos os tipos de dados em python são objetos, é esperado que o comportamento seja igual do exemplo anterior, mas aqui ocorre uma peculiaridade da linguagem"
   ]
  },
  {
   "cell_type": "code",
   "execution_count": 31,
   "metadata": {},
   "outputs": [
    {
     "name": "stdout",
     "output_type": "stream",
     "text": [
      "A == B\n",
      "A is B\n",
      "139692418450944 139692418450944\n"
     ]
    }
   ],
   "source": [
    "A = 10\n",
    "B = 10\n",
    "\n",
    "if A == B: print(\"A == B\")\n",
    "if A is B: print(\"A is B\")\n",
    "\n",
    "print(id(A), id(B))"
   ]
  },
  {
   "cell_type": "markdown",
   "metadata": {},
   "source": [
    "Tipos primitivos (inteiros, floats, strings e booleanos) são todos armazenados na mesma posição de memória e cada variável com este conteúdo possui a mesma referência (para economizar espaço). Qualquer outro tipo de objeto possui o comportamento usual.\n",
    "\n",
    "Comparação de grandeza funciona de forma similar a C ou Java:"
   ]
  },
  {
   "cell_type": "code",
   "execution_count": 32,
   "metadata": {},
   "outputs": [
    {
     "name": "stdout",
     "output_type": "stream",
     "text": [
      "20 é maior que 3\n",
      "3 é menor ou igual a 20\n"
     ]
    }
   ],
   "source": [
    "if 20 > 3: print(\"20 é maior que 3\")\n",
    "\n",
    "if 3 <= 20: print(\"3 é menor ou igual a 20\")"
   ]
  },
  {
   "cell_type": "markdown",
   "metadata": {},
   "source": [
    "Operadores lógicos $e$ e $ou$ são implementados com a *keyword* `and` e `or`. Para aninhar um outro `if` dentro do `else`, utilizamos a notação `elif`"
   ]
  },
  {
   "cell_type": "code",
   "execution_count": 5,
   "metadata": {},
   "outputs": [
    {
     "name": "stdout",
     "output_type": "stream",
     "text": [
      "10\n"
     ]
    }
   ],
   "source": [
    "a = 10\n",
    "\n",
    "if a == 10 and a is 10:\n",
    "    print(a)\n",
    "    \n",
    "elif a != 10 or a is not 10:\n",
    "    print(\"A primeira expressão é falsa e a segunda verdadeira\")\n",
    "    \n",
    "else:\n",
    "    print(\"Todas as expressões foram falsas\")\n",
    "    "
   ]
  },
  {
   "cell_type": "markdown",
   "metadata": {},
   "source": [
    "<a id=\"pt2.2\"></a>\n",
    "## 2.2 Estruturas de repetição for\n",
    "\n",
    "Uma das estruturas de repetição mais utilizadas na linguagem é o `for` e podemos utilizá-lo de diferentes maneiras.\n",
    "\n",
    "Qualquer *container* em python é iterável, ou seja, podemos colocá-lo direto no laço.\n",
    "\n",
    "A sintaxe base é:\n",
    "```py\n",
    "for variavel_do_laço in container:\n",
    "```"
   ]
  },
  {
   "cell_type": "code",
   "execution_count": 35,
   "metadata": {
    "scrolled": true
   },
   "outputs": [
    {
     "name": "stdout",
     "output_type": "stream",
     "text": [
      "banana\n",
      "abacate\n",
      "maçã\n",
      "kiwi\n"
     ]
    }
   ],
   "source": [
    "frutas = [\"banana\", \"abacate\", \"maçã\", \"kiwi\"]\n",
    "for fruta in frutas:\n",
    "    print(fruta)"
   ]
  },
  {
   "cell_type": "markdown",
   "metadata": {},
   "source": [
    "Pode ser tentador programar como se estivesse utilizando a linguagem C, acessando cada elemento da lista pelo seu índice e imprimindo-o"
   ]
  },
  {
   "cell_type": "code",
   "execution_count": 36,
   "metadata": {},
   "outputs": [
    {
     "name": "stdout",
     "output_type": "stream",
     "text": [
      "banana\n",
      "abacate\n",
      "maçã\n",
      "kiwi\n"
     ]
    }
   ],
   "source": [
    "for i in range(len(frutas)): # A função len() retorna o comprimeiro da lista\n",
    "    print(frutas[i])"
   ]
  },
  {
   "cell_type": "markdown",
   "metadata": {},
   "source": [
    "O resultado final pode ser o mesmo, mas além de não ser a forma mais idiomática (ou pythonica), este tipo de estrutura consome mais processamento do interpretador do que o formato anterior.\n",
    "\n",
    "Sempre que for necessário iterar em cima de uma sequencia, temos que utilizar a função `range` que possui 3 argumentos:\n",
    "```py\n",
    "range(inicio, fim, passo)\n",
    "```\n",
    "Em que `inicio` é incluído e `fim` não."
   ]
  },
  {
   "cell_type": "code",
   "execution_count": 39,
   "metadata": {},
   "outputs": [
    {
     "name": "stdout",
     "output_type": "stream",
     "text": [
      "Numeros pares de 0 a 10\n",
      "0\n",
      "2\n",
      "4\n",
      "6\n",
      "8\n"
     ]
    }
   ],
   "source": [
    "print(\"Numeros pares de 0 a 10 usando for\")\n",
    "for i in range(0, 10, 2):\n",
    "    print(i)"
   ]
  },
  {
   "cell_type": "code",
   "execution_count": 41,
   "metadata": {},
   "outputs": [
    {
     "name": "stdout",
     "output_type": "stream",
     "text": [
      "Numeros pares de 10 a 0 ao contrário\n",
      "10\n",
      "8\n",
      "6\n",
      "4\n",
      "2\n"
     ]
    }
   ],
   "source": [
    "print(\"Numeros pares de 10 a 0 ao contrário\")\n",
    "for i in range(10, 0, -2):\n",
    "    print(i)"
   ]
  },
  {
   "cell_type": "markdown",
   "metadata": {},
   "source": [
    "<a id=\"pt2.3\"></a>\n",
    "## 2.3 Estruturas de repetição while\n",
    "\n",
    "As estruturas de repetição `while` executam uma tarefa enquanto uma expressão booleana for verdadeira."
   ]
  },
  {
   "cell_type": "code",
   "execution_count": 45,
   "metadata": {},
   "outputs": [
    {
     "name": "stdout",
     "output_type": "stream",
     "text": [
      "Números pares de 0 a 10 usando while\n",
      "0\n",
      "2\n",
      "4\n",
      "6\n",
      "8\n"
     ]
    }
   ],
   "source": [
    "print(\"Números pares de 0 a 10 usando while\")\n",
    "a = 0\n",
    "while a < 10:\n",
    "    print(a)\n",
    "    a += 2"
   ]
  },
  {
   "cell_type": "markdown",
   "metadata": {},
   "source": [
    "<a id=\"pt3\"></a>\n",
    "## Parte 3: Estruturas de dados nativas\n",
    "Existem diversos tipos/estruturas de dados que podem ser carregados a partir da biblioteca padrão. Aqui veremos as principais e mais úteis no dia a dia.\n",
    "\n",
    "<a id=\"pt3.1\"></a>\n",
    "### 3.1: Strings\n",
    "Strings em python são cadeias de caracteres e podem funcionar de forma parecida como vemos em listas. Então é possível acessar seu conteúdo pelo índice do caractere. Python é 0-indexado e valores negativos são lidos do final."
   ]
  },
  {
   "cell_type": "code",
   "execution_count": 29,
   "metadata": {},
   "outputs": [
    {
     "name": "stdout",
     "output_type": "stream",
     "text": [
      "B\n",
      "A\n"
     ]
    }
   ],
   "source": [
    "fruta = \"BananA\"\n",
    "print(fruta[0])\n",
    "print(fruta[-1])"
   ]
  },
  {
   "cell_type": "markdown",
   "metadata": {},
   "source": [
    "Por conta disso, string são considerados contâiners, então podemos iterálas."
   ]
  },
  {
   "cell_type": "code",
   "execution_count": 38,
   "metadata": {},
   "outputs": [
    {
     "name": "stdout",
     "output_type": "stream",
     "text": [
      "a b c d e f g h i j k l m n o p q r s t u v w x y z "
     ]
    }
   ],
   "source": [
    "alfabeto_latino = \"abcdefghijklmnopqrstuvwxyz\"\n",
    "for letra in alfabeto_latino:\n",
    "    print(letra, end=\" \")\n",
    "    \n",
    "# A função print pode receber outros argumentos modificando seu comportamento.\n",
    "# o argumento `end` insica qual caractere será usado ao final de cada execução\n",
    "# da função. O padrão é \\n (quebra de linha).\n"
   ]
  },
  {
   "cell_type": "markdown",
   "metadata": {},
   "source": [
    "Existem alguns métodos da classe string que são super úteis no dia a dia.\n",
    " - `str.split(separador)` : Transforma os elementos de uma string numa lista, separada pelo seu argumento \"separador\";\n",
    " - `str.lower()` ou `str.upper()` : Transformam todos os caracteres em caixa baixa ou alta;\n",
    " - `str.strip(r_string)` : Remove das bordas uma string a sequencia indicada por \"r_string\";\n",
    " - `str.rstrip` e `str.lstrip`: Igual a strip, mas só remove da borda direita ou esquerda;\n",
    " - `str.replace(remover, substituir)` : Substitui um caractere (ou cadeia) por outro;\n",
    " - `str.count(elem)` : Conta a quantidade de ocorrências de um elemento em uma string;\n",
    " - `str.find(string)` : Encontra o índice da primeira ocorrência (da esquerda para a direita) de uma string\n",
    " - `str.join(container)` : \"junta\" cada elemento de container com o valor de str\n",
    "\n",
    "\n",
    "Mas existem diversos outros métodos que podem ser encontrados na [documentação oficial](https://docs.python.org/3/library/string.html)"
   ]
  },
  {
   "cell_type": "code",
   "execution_count": 71,
   "metadata": {},
   "outputs": [
    {
     "name": "stdout",
     "output_type": "stream",
     "text": [
      "['p1', 'p2', 'p3', 'p4', 'p5', 'p6']\n",
      "LOWER CASE PARA UPPER CASE\n",
      "inicio-->Remover  os espaços em branco das bordas<--fim\n",
      "string_de_espaços_para_underline\n",
      "A quantidade de 'ta' dentro de batata:  2\n",
      "A posião da primeira ocorrência de 'a' dentro de 'farofa':  1\n",
      "p1_p2_p3_p4_p5_p6\n",
      "p1_p2_p3_p4_p5_p6\n"
     ]
    }
   ],
   "source": [
    "lista_de_palavras = \"p1 p2 p3 p4 p5 p6\".split(\" \")\n",
    "print(lista_de_palavras)\n",
    "\n",
    "print(\"lower case para upper case\".upper())\n",
    "\n",
    "print(\"inicio-->\"+ \"   Remover  os espaços em branco das bordas  \".strip(\" \") + \"<--fim\")\n",
    "\n",
    "print(\"string de espaços para underline\".replace(\" \", \"_\"))\n",
    "\n",
    "print(\"A quantidade de 'ta' dentro de batata: \", \"batata\".count('ta'))\n",
    "\n",
    "print(\"A posião da primeira ocorrência de 'a' dentro de 'farofa': \", \"farofa\".find(\"a\"))\n",
    "\n",
    "print(\"_\".join(lista_de_palavras))\n",
    "\n",
    "# Cada um dos métodos podem ser utiliados aninhados.\n",
    "# strip sem argumento remove espaço, quebra de linha e tabs das bordas\n",
    "print(\"\\t   P1 P2 P3 P4 P5 P6   \\n\".lower().strip().replace(\" \", \"_\") )"
   ]
  },
  {
   "cell_type": "markdown",
   "metadata": {},
   "source": [
    "<a id=\"pt3.2\"></a>\n",
    "### 3.2: Listas"
   ]
  },
  {
   "cell_type": "markdown",
   "metadata": {},
   "source": [
    "<a id=\"pt3.3\"></a>\n",
    "### 3.3: Conjuntos"
   ]
  },
  {
   "cell_type": "markdown",
   "metadata": {},
   "source": [
    "<a id=\"pt3.4\"></a>\n",
    "### 3.4 Dicionários"
   ]
  },
  {
   "cell_type": "markdown",
   "metadata": {},
   "source": [
    "<a id=\"pt3.4\"></a>\n",
    "### 3.5 Matrizes"
   ]
  },
  {
   "cell_type": "code",
   "execution_count": null,
   "metadata": {},
   "outputs": [],
   "source": []
  },
  {
   "cell_type": "code",
   "execution_count": null,
   "metadata": {},
   "outputs": [],
   "source": []
  },
  {
   "cell_type": "code",
   "execution_count": null,
   "metadata": {},
   "outputs": [],
   "source": []
  },
  {
   "cell_type": "code",
   "execution_count": null,
   "metadata": {},
   "outputs": [],
   "source": []
  },
  {
   "cell_type": "markdown",
   "metadata": {},
   "source": [
    "Em python existe uma forma mais concisa de se fazer laços chamado de *list comprehension*, e esta é a sintaxe:\n",
    "```py\n",
    "[v_laço for v_laço in container if expressão]\n",
    "```"
   ]
  },
  {
   "cell_type": "code",
   "execution_count": null,
   "metadata": {},
   "outputs": [],
   "source": []
  },
  {
   "cell_type": "code",
   "execution_count": null,
   "metadata": {},
   "outputs": [],
   "source": []
  },
  {
   "cell_type": "code",
   "execution_count": null,
   "metadata": {},
   "outputs": [],
   "source": []
  },
  {
   "cell_type": "code",
   "execution_count": null,
   "metadata": {},
   "outputs": [],
   "source": []
  }
 ],
 "metadata": {
  "kernelspec": {
   "display_name": "Python 3",
   "language": "python",
   "name": "python3"
  },
  "language_info": {
   "codemirror_mode": {
    "name": "ipython",
    "version": 3
   },
   "file_extension": ".py",
   "mimetype": "text/x-python",
   "name": "python",
   "nbconvert_exporter": "python",
   "pygments_lexer": "ipython3",
   "version": "3.7.3"
  }
 },
 "nbformat": 4,
 "nbformat_minor": 2
}
